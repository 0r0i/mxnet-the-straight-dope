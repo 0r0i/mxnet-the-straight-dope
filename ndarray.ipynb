{
 "cells": [
  {
   "cell_type": "markdown",
   "metadata": {
    "collapsed": true
   },
   "source": [
    "# Working with Data via MXNet NDArray\n",
    "\n",
    "MXNet's NDArray is a tensor data structure similar to numpy's multi-dimensional array. \n",
    "It confers a few key advantages. First, it supports asynchronous computation on CPU and GPU, and distributed cloud architectures. Second, it provides support for automatic differentiation. These properties make it especially suited as a library for both deep learning research and production.\n",
    "\n",
    "\n",
    "## Getting Started\n",
    "\n",
    "First, let's import mxnet and (for convenience) mxnet.ndarray, the only dependencies we'll need in this tutorial."
   ]
  },
  {
   "cell_type": "code",
   "execution_count": 92,
   "metadata": {
    "collapsed": true
   },
   "outputs": [],
   "source": [
    "import mxnet \n",
    "import mxnet.ndarray as nd"
   ]
  },
  {
   "cell_type": "markdown",
   "metadata": {},
   "source": [
    "First, we'll create a 6x4 matrix, without initializing values"
   ]
  },
  {
   "cell_type": "code",
   "execution_count": 110,
   "metadata": {},
   "outputs": [
    {
     "name": "stdout",
     "output_type": "stream",
     "text": [
      "[[  0.00000000e+00  -2.00000000e+00  -5.40732375e+05   1.58494897e+29]\n",
      " [  8.40779079e-45   0.00000000e+00   0.00000000e+00   0.00000000e+00]\n",
      " [  0.00000000e+00   0.00000000e+00   1.87544948e+28   4.15857830e-05]\n",
      " [  2.67017140e-06   1.28024709e-11   5.26692006e-08   2.14771091e-04]\n",
      " [  1.34215661e-05   4.03291693e-08   1.06061622e-08   5.39295324e-05]\n",
      " [  4.12020557e-11   7.14495034e+31   4.14181787e-41   5.51012977e-40]]\n",
      "<NDArray 6x4 @cpu(0)>\n"
     ]
    }
   ],
   "source": [
    "x = nd.empty(shape=(6,4))\n",
    "print(x)"
   ]
  },
  {
   "cell_type": "markdown",
   "metadata": {},
   "source": [
    "We can also create a 6x5 matrix, initialized with values drawn from a standard normal distribution."
   ]
  },
  {
   "cell_type": "code",
   "execution_count": 111,
   "metadata": {},
   "outputs": [
    {
     "name": "stdout",
     "output_type": "stream",
     "text": [
      "[[-0.75670922  0.34593368  0.13926521 -1.78783298]\n",
      " [-0.20225924 -0.17870884  1.04662514  0.98684961]\n",
      " [-2.31759715 -0.82165414  0.22842792  1.18865573]\n",
      " [-0.55536991 -0.51751894 -0.22436801 -0.21166277]\n",
      " [-0.03407707 -1.07040215 -0.86891282  1.33646619]\n",
      " [ 0.83015364  0.77279937  0.22461908 -0.36800992]]\n",
      "<NDArray 6x4 @cpu(0)>\n"
     ]
    }
   ],
   "source": [
    "x = nd.random_normal(shape=(6,4))\n",
    "print(x)"
   ]
  },
  {
   "cell_type": "markdown",
   "metadata": {},
   "source": [
    "As in NumPy, we can get its shape"
   ]
  },
  {
   "cell_type": "code",
   "execution_count": 119,
   "metadata": {},
   "outputs": [
    {
     "name": "stdout",
     "output_type": "stream",
     "text": [
      "(6, 4)\n"
     ]
    }
   ],
   "source": [
    "print(x.shape)"
   ]
  },
  {
   "cell_type": "markdown",
   "metadata": {},
   "source": [
    "We can also query it's size, which is equal to the product of the shape."
   ]
  },
  {
   "cell_type": "code",
   "execution_count": 120,
   "metadata": {},
   "outputs": [
    {
     "name": "stdout",
     "output_type": "stream",
     "text": [
      "24\n"
     ]
    }
   ],
   "source": [
    "print(x.size)"
   ]
  },
  {
   "cell_type": "markdown",
   "metadata": {},
   "source": [
    "## Operations\n",
    "\n",
    "There are multiple syntaxes for operations. Let’s see addition as an example"
   ]
  },
  {
   "cell_type": "code",
   "execution_count": 96,
   "metadata": {},
   "outputs": [
    {
     "name": "stdout",
     "output_type": "stream",
     "text": [
      "[[ 0.14507043 -3.30073404 -0.2066054 ]\n",
      " [-0.22305712 -1.51432788  2.18144083]\n",
      " [-0.66082555  1.42019582  1.78058803]\n",
      " [-1.6503545  -1.23633528 -0.18388587]\n",
      " [ 0.71802235  1.87202454 -0.51498145]]\n",
      "<NDArray 5x3 @cpu(0)>\n"
     ]
    }
   ],
   "source": [
    "y = nd.random_normal(shape=(5,3))\n",
    "c = x + y\n",
    "print(c)"
   ]
  },
  {
   "cell_type": "markdown",
   "metadata": {},
   "source": [
    "In the previous example, MXNet allocates new memory for the sum ``x+y`` and assigns a reference to the variable ``c``. To make better use of memory, we often prefer to perform operations in place, reusing already allocated memory. \n",
    "\n",
    "In MXNet, we can perform inplace operations by assigning the results of operations using slice notation (``result[:] = ...``)."
   ]
  },
  {
   "cell_type": "code",
   "execution_count": 97,
   "metadata": {},
   "outputs": [
    {
     "name": "stdout",
     "output_type": "stream",
     "text": [
      "[[ 0.14507043 -3.30073404 -0.2066054 ]\n",
      " [-0.22305712 -1.51432788  2.18144083]\n",
      " [-0.66082555  1.42019582  1.78058803]\n",
      " [-1.6503545  -1.23633528 -0.18388587]\n",
      " [ 0.71802235  1.87202454 -0.51498145]]\n",
      "<NDArray 5x3 @cpu(0)>\n"
     ]
    }
   ],
   "source": [
    "result = nd.zeros(shape=(5,3))\n",
    "result[:] = x+y\n",
    "print(result)"
   ]
  },
  {
   "cell_type": "markdown",
   "metadata": {},
   "source": [
    "## Slicing\n",
    "\n",
    "MXNet NDArrays currently support slicing along the first (0th) axis only. To use arbitrary slicing patterns, you can convert NDArrays to numpy arrays and back."
   ]
  },
  {
   "cell_type": "code",
   "execution_count": 98,
   "metadata": {},
   "outputs": [
    {
     "data": {
      "text/plain": [
       "[[-0.66082555  1.42019582  1.78058803]\n",
       " [-1.6503545  -1.23633528 -0.18388587]]\n",
       "<NDArray 2x3 @cpu(0)>"
      ]
     },
     "execution_count": 98,
     "metadata": {},
     "output_type": "execute_result"
    }
   ],
   "source": [
    "result[2:4]"
   ]
  },
  {
   "cell_type": "markdown",
   "metadata": {},
   "source": [
    "## Converting from MXNet NDArray to NumPy Array\n",
    "\n",
    "Converting MXNet NDArrays to and from NumPy is easy. Note that the converted arrays do not share memory."
   ]
  },
  {
   "cell_type": "code",
   "execution_count": 99,
   "metadata": {},
   "outputs": [
    {
     "name": "stdout",
     "output_type": "stream",
     "text": [
      "[ 1.  1.  1.  1.  1.]\n",
      "<NDArray 5 @cpu(0)>\n"
     ]
    }
   ],
   "source": [
    "a = nd.ones(shape=(5))\n",
    "print(a)"
   ]
  },
  {
   "cell_type": "code",
   "execution_count": 100,
   "metadata": {},
   "outputs": [
    {
     "name": "stdout",
     "output_type": "stream",
     "text": [
      "[ 1.  1.  1.  1.  1.]\n"
     ]
    }
   ],
   "source": [
    "b = a.asnumpy()\n",
    "print(b)"
   ]
  },
  {
   "cell_type": "code",
   "execution_count": 101,
   "metadata": {},
   "outputs": [
    {
     "name": "stdout",
     "output_type": "stream",
     "text": [
      "[ 2.  1.  1.  1.  1.]\n",
      "[ 1.  1.  1.  1.  1.]\n",
      "<NDArray 5 @cpu(0)>\n"
     ]
    }
   ],
   "source": [
    "z[0] = 2\n",
    "print(z)\n",
    "print(a)"
   ]
  },
  {
   "cell_type": "markdown",
   "metadata": {},
   "source": [
    "## Converting from NumPy Array to MXNet NDArray\n",
    "\n",
    "Constructing an MXNet NDarray from a NumPy Array is straightforward."
   ]
  },
  {
   "cell_type": "code",
   "execution_count": 102,
   "metadata": {},
   "outputs": [
    {
     "name": "stdout",
     "output_type": "stream",
     "text": [
      "[ 1.  1.  1.  1.  1.]\n",
      "<NDArray 5 @cpu(0)>\n"
     ]
    }
   ],
   "source": [
    "c = nd.array(b)\n",
    "print(c)"
   ]
  },
  {
   "cell_type": "markdown",
   "metadata": {},
   "source": [
    "## Managing Context\n",
    "\n",
    "In MXNet, every array has a context. A context could be the CPU, or one of many GPUs. By assigning arrays to contexts intelligently, we can minimize the time spent transferring data between devices. For example, when training neural networks on a server with a GPU, we typically prefer for the model's parameters to live on the GPU. \n"
   ]
  },
  {
   "cell_type": "code",
   "execution_count": 47,
   "metadata": {},
   "outputs": [],
   "source": [
    "d = nd.array(b, mxnet.cpu())"
   ]
  },
  {
   "cell_type": "markdown",
   "metadata": {},
   "source": [
    "Given an NDArray on a given context, we can copy it to another context by using the ``copyto()`` method."
   ]
  },
  {
   "cell_type": "code",
   "execution_count": 103,
   "metadata": {
    "collapsed": true
   },
   "outputs": [
    {
     "name": "stdout",
     "output_type": "stream",
     "text": [
      "[ 1.  1.  1.  1.  1.]\n",
      "<NDArray 5 @cpu(1)>\n"
     ]
    }
   ],
   "source": [
    "e = d.copyto(mx.cpu(1))\n",
    "print(e)"
   ]
  },
  {
   "cell_type": "markdown",
   "metadata": {},
   "source": [
    "Often we only want to make a copy if the variable isn't already on the desired context. In these cases, we can call ``as_in_context()`` which only makes a copy when the source and target contexts are different."
   ]
  },
  {
   "cell_type": "code",
   "execution_count": 106,
   "metadata": {},
   "outputs": [
    {
     "name": "stdout",
     "output_type": "stream",
     "text": [
      "[ 1.  1.  1.  1.  1.]\n",
      "<NDArray 5 @cpu(0)>\n"
     ]
    }
   ],
   "source": [
    "f = d.as_in_context(mxnet.cpu(0))\n",
    "print(f)"
   ]
  }
 ],
 "metadata": {
  "kernelspec": {
   "display_name": "Python 3",
   "language": "python",
   "name": "python3"
  },
  "language_info": {
   "codemirror_mode": {
    "name": "ipython",
    "version": 3
   },
   "file_extension": ".py",
   "mimetype": "text/x-python",
   "name": "python",
   "nbconvert_exporter": "python",
   "pygments_lexer": "ipython3",
   "version": "3.6.1"
  }
 },
 "nbformat": 4,
 "nbformat_minor": 2
}

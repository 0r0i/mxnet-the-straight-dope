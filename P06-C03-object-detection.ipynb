{
 "cells": [
  {
   "cell_type": "markdown",
   "metadata": {},
   "source": [
    "# Object Detection Using Convolutional Neural Networks\n",
    "\n",
    "Object detection aims to detect semantic objects in images or videos. The following image shows that two dogs and a cat, with their locations, are detected in an image. \n",
    "\n",
    "![](img/dogdogcat.png)\n",
    "\n",
    "It differs to image classification, or object recognition, we demonstrated before, object detection may recognize multiple objects in a single image, and also need to learn additional locations.\n",
    "\n",
    "On this chapter we will show SSD.\n"
   ]
  },
  {
   "cell_type": "markdown",
   "metadata": {
    "scrolled": true
   },
   "source": [
    "## SSD:  Single Shot MultiBox Detector\n",
    "\n",
    "The ssd model predicts anchor boxes at multiple scales. The model architecture is illustrated in the following figure. \n",
    "\n",
    "![](data:image/svg+xml;base64,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)\n",
    "\n",
    "We first use a `body` network to extract the image features, which are used as the input to the first scale (scale 0). The class labels and the according anchor boxes are predicted by `class_predictor` and `box_predictor`, separetively. The features are then down sampled to the next scale (scale 1). Both classes and anchor boxed are predicted again at this scale. This downsampling and predicting routine can be repeated in multiple times to obtain results on multiple resolution scales. \n",
    "\n",
    "Next we will explain each component one by one.\n",
    "\n",
    "### Default anchor boxes\n",
    "\n",
    "Since an anchor box can have arbituary shape, we sample a set of anchor boxes as the candidate. In particular, for each pixel, we sample multiple boxes centered by this pixel but have various sizes and ratios. Assume the input size is $w \\times h$, \n",
    "- for size $s\\in (0,1]$, the generated box shape will be $ws \\times hs$ \n",
    "- for ratio $r > 0$, the generated box shape will be $w\\sqrt{r} \\times \\frac{h}{\\sqrt{r}}$\n",
    "\n",
    "We can sample the boxes by the operator `MultiBoxPrior`. It accepts *n* sizes and *m* ratios to generate *n+m-1* boxes for each pixel. The first *i* boxes is generated from `sizes[i], ratios[0]` if $i \\le n$ otherwise `sizes[0], ratios[i-n]`."
   ]
  },
  {
   "cell_type": "code",
   "execution_count": 59,
   "metadata": {},
   "outputs": [
    {
     "name": "stdout",
     "output_type": "stream",
     "text": [
      "The first anchor box at row 21, column 21: \n",
      "[ 0.26249999  0.26249999  0.76249999  0.76249999]\n",
      "<NDArray 4 @cpu(0)>\n"
     ]
    }
   ],
   "source": [
    "from mxnet import nd\n",
    "from mxnet.contrib.ndarray import MultiBoxPrior\n",
    "\n",
    "n = 40\n",
    "# shape: batch x channel x height x weight\n",
    "x = nd.random_uniform(shape=(1, 3, n, n))  \n",
    "\n",
    "y = MultiBoxPrior(x, sizes=[.5, .25, .1], ratios=[1, 2, .5])\n",
    "\n",
    "# the first anchor box generated for pixel at (20,20)\n",
    "# its format is (x_min, y_min, x_max, y_max)\n",
    "boxes = y.reshape((n, n, -1, 4))\n",
    "print('The first anchor box at row 21, column 21:', boxes[20, 20, 0, :])"
   ]
  },
  {
   "cell_type": "markdown",
   "metadata": {},
   "source": [
    "We can visualize all anchor boxes generated for one pixel on a certain size feature map."
   ]
  },
  {
   "cell_type": "code",
   "execution_count": 60,
   "metadata": {
    "scrolled": true
   },
   "outputs": [
    {
     "data": {
      "image/png": "[encoded data removed]",
      "text/plain": [
       "<matplotlib.figure.Figure at 0x10ea14a20>"
      ]
     },
     "metadata": {},
     "output_type": "display_data"
    }
   ],
   "source": [
    "import matplotlib.pyplot as plt\n",
    "def box_to_rect(box, color, linewidth=3):\n",
    "    \"\"\"convert an anchor box to a matplotlib rectangle\"\"\"\n",
    "    box = box.asnumpy()\n",
    "    return plt.Rectangle(\n",
    "        (box[0], box[1]), (box[2]-box[0]), (box[3]-box[1]), \n",
    "        fill=False, edgecolor=color, linewidth=linewidth)\n",
    "colors = ['blue', 'green', 'red', 'black', 'magenta']\n",
    "plt.imshow(nd.ones((n, n, 3)).asnumpy())\n",
    "anchors = boxes[20, 20, :, :]\n",
    "for i in range(anchors.shape[0]):\n",
    "    plt.gca().add_patch(box_to_rect(anchors[i,:]*n, colors[i]))\n",
    "plt.show()"
   ]
  },
  {
   "cell_type": "markdown",
   "metadata": {},
   "source": [
    "### Predict classes\n",
    "\n",
    "The goal is to predict the class label for each anchor box. It is achieved by using a convolution layer. We pick the kernel size to be $3\\times 3$ with padding size $(1, 1)$ so that the output will have the same width and height as the input. The confidence scores for the anchor box class labels are stored in channels. In particular, for the *i*-th anchor box\n",
    "\n",
    "- channel `i*(num_class+1)` store the scores for this box contains only background\n",
    "- channel `i*(num_class+1)+1+j` store the scores for this box contains an object from the *j*-th class"
   ]
  },
  {
   "cell_type": "code",
   "execution_count": 99,
   "metadata": {},
   "outputs": [
    {
     "name": "stdout",
     "output_type": "stream",
     "text": [
      "Class prediction (2, 55, 20, 20)\n"
     ]
    }
   ],
   "source": [
    "from mxnet.gluon import nn\n",
    "def class_predictor(num_anchors, num_classes):\n",
    "    \"\"\"return a layer to predict classes\"\"\"\n",
    "    return nn.Conv2D(num_anchors * (num_classes + 1), 3, padding=1)\n",
    "\n",
    "cls_pred = class_predictor(5, 10)\n",
    "cls_pred.initialize()\n",
    "x = nd.zeros((2, 3, 20, 20))\n",
    "print('Class prediction', cls_pred(x).shape)"
   ]
  },
  {
   "cell_type": "markdown",
   "metadata": {},
   "source": [
    "### Predict anchor boxes\n",
    " \n",
    "The goal is predict how to transfer the current anchor box to the correct box. That is, assume $b$ is one of the sampled default box, while $Y$ is the ground truth, then we want to predict the delta positions $\\Delta(Y, b)$, which is a 4-length vector.\n",
    "\n",
    "More specifically, the delta vector is define as:\n",
    "[$t_x$, $t_y$, $t_{width}$, $t_{height}$], where\n",
    "\n",
    "- $t_x = (Y_x - b_x) / b_{width}$\n",
    "- $t_y = (Y_y - b_y) / b_{height}$\n",
    "- $t_{width} = (Y_{width} - b_{width}) / b_{width}$\n",
    "- $t_{height} = (Y_{height} - b_{height}) / b_{height}$\n",
    "\n",
    "Normalize deltas with box width/height ensures a better convergence behavior.\n",
    "\n",
    "Similar to classes, we use a convolution layer here. The only difference is that the output channel size is now `num_anchors * 4`, with the predicted delta positions for the *i*-th box are stored from channel `i*4` to `i*4+3`."
   ]
  },
  {
   "cell_type": "code",
   "execution_count": 100,
   "metadata": {},
   "outputs": [
    {
     "name": "stdout",
     "output_type": "stream",
     "text": [
      "Box prediction (2, 40, 20, 20)\n"
     ]
    }
   ],
   "source": [
    "def box_predictor(num_anchors):\n",
    "    \"\"\"return a layer to predict delta locations\"\"\"\n",
    "    return nn.Conv2D(num_anchors * 4, 3, padding=1)\n",
    "\n",
    "box_pred = box_predictor(10)\n",
    "box_pred.initialize()\n",
    "x = nd.zeros((2, 3, 20, 20))\n",
    "print('Box prediction', box_pred(x).shape)"
   ]
  },
  {
   "cell_type": "markdown",
   "metadata": {},
   "source": [
    "### Down-sample features\n",
    "\n",
    "Each time we down sample the features by half. It can be achieved by a simple pooling layer with pooling size 2. We may also stack two convolution, batch norm and relu blocks before the pooling layer to make the network deeper. "
   ]
  },
  {
   "cell_type": "code",
   "execution_count": 98,
   "metadata": {},
   "outputs": [
    {
     "name": "stdout",
     "output_type": "stream",
     "text": [
      "Before (2, 3, 20, 20) after (2, 10, 10, 10)\n"
     ]
    }
   ],
   "source": [
    "def down_sample(num_filters):\n",
    "    \"\"\"stack two Conv-BatchNorm-Relu blocks and then a pooling layer \n",
    "    to halve the feature size\"\"\"\n",
    "    out = nn.HybridSequential()\n",
    "    for _ in range(2):\n",
    "        out.add(nn.Conv2D(num_filters, 3, strides=1, padding=1))\n",
    "        out.add(nn.BatchNorm(in_channels=num_filters))\n",
    "        out.add(nn.Activation('relu'))\n",
    "    out.add(nn.MaxPool2D(2))\n",
    "    return out\n",
    "\n",
    "blk = down_sample(10)\n",
    "blk.initialize()\n",
    "x = nd.zeros((2, 3, 20, 20))\n",
    "print('Before', x.shape, 'after', blk(x).shape)"
   ]
  },
  {
   "cell_type": "markdown",
   "metadata": {},
   "source": [
    "### Manage preditions from multiple layers\n",
    "\n",
    "A key property of SSD is that predictions are conducted on multiple layers with shrinking spatial size. Thus we have to manage predictions from multiple feature layers. The idea is to concatenate them along convolutional channels, with each one predicting a correspoding value(class or box) for each default anchor. We take class predictor as example, and box predictor follows the same rule."
   ]
  },
  {
   "cell_type": "code",
   "execution_count": 64,
   "metadata": {},
   "outputs": [
    {
     "name": "stdout",
     "output_type": "stream",
     "text": [
      "feature map 1 (2, 8, 20, 20)\n",
      "class prediction for feature map 1 (2, 55, 20, 20)\n",
      "feature map 2 (2, 16, 10, 10)\n",
      "class prediction for feature map 2 (2, 33, 10, 10)\n"
     ]
    }
   ],
   "source": [
    "# a certain feature map with 20x20 spatial shape\n",
    "feat1 = nd.zeros((2, 8, 20, 20))\n",
    "print('Feature map 1', feat1.shape)\n",
    "cls_pred1 = class_predictor(5, 10)\n",
    "cls_pred1.initialize()\n",
    "y1 = cls_pred1(feat1)\n",
    "print('Class prediction for feature map 1', y1.shape)\n",
    "# down-sample \n",
    "ds = down_sample(16)\n",
    "ds.initialize()\n",
    "feat2 = ds(feat1)\n",
    "print('Feature map 2', feat2.shape)\n",
    "cls_pred2 = class_predictor(3, 10)\n",
    "cls_pred2.initialize()\n",
    "y2 = cls_pred2(feat2)\n",
    "print('Class prediction for feature map 2', y2.shape)"
   ]
  },
  {
   "cell_type": "code",
   "execution_count": 78,
   "metadata": {},
   "outputs": [
    {
     "name": "stdout",
     "output_type": "stream",
     "text": [
      "flatten class prediction 1 (2, 55, 20, 20)\n",
      "flatten class prediction 2 (2, 33, 10, 10)\n",
      "concat class predictions (2, 25300)\n"
     ]
    }
   ],
   "source": [
    "def flatten_prediction(pred):\n",
    "    return nd.flatten(nd.transpose(pred, axes=(0, 2, 3, 1)))\n",
    "\n",
    "def concat_predictions(preds):\n",
    "    return nd.concat(*preds, dim=1)\n",
    "\n",
    "flat_y1 = flatten_prediction(y1)\n",
    "print('Flatten class prediction 1', y1.shape)\n",
    "flat_y2 = flatten_prediction(y2)\n",
    "print('Flatten class prediction 2', y2.shape)\n",
    "print('Concat class predictions', concat_predictions([flat_y1, flat_y2]).shape)"
   ]
  },
  {
   "cell_type": "markdown",
   "metadata": {},
   "source": [
    "### Body network\n",
    "\n",
    "The body network is used to extract features from the raw pixel inputs. Common choices are state-of-the-art convolution neural networks. For demonstration purpose, we just stack several down sampling blocks to form the body network."
   ]
  },
  {
   "cell_type": "code",
   "execution_count": 66,
   "metadata": {
    "scrolled": false
   },
   "outputs": [
    {
     "name": "stdout",
     "output_type": "stream",
     "text": [
      "(2, 64, 8, 8)\n"
     ]
    }
   ],
   "source": [
    "def body0():\n",
    "    \"\"\"return the body network\"\"\"\n",
    "    out = nn.HybridSequential()\n",
    "    for nfilters in [16, 32, 64]:\n",
    "        out.add(down_sample(nfilters))\n",
    "    return out\n",
    "\n",
    "def body():\n",
    "    \"\"\"return the body network\"\"\"\n",
    "    \n",
    "\n",
    "bnet = body()\n",
    "bnet.initialize()\n",
    "x = nd.zeros((2, 3, 64, 64))\n",
    "print('Body network', bnet(x).shape)"
   ]
  },
  {
   "cell_type": "markdown",
   "metadata": {},
   "source": [
    "### Create a toy SSD model\n",
    "\n",
    "Now we create a toy SSD model that takes $64 \\times 64$ size input."
   ]
  },
  {
   "cell_type": "code",
   "execution_count": 67,
   "metadata": {},
   "outputs": [
    {
     "name": "stdout",
     "output_type": "stream",
     "text": [
      "(HybridSequential(\n",
      "  (0): HybridSequential(\n",
      "    (0): Conv2D(16, kernel_size=(3, 3), stride=(1, 1), padding=(1, 1))\n",
      "    (1): BatchNorm(axis=1, eps=1e-05, momentum=0.9, fix_gamma=False, in_channels=16)\n",
      "    (2): Activation(relu)\n",
      "    (3): Conv2D(16, kernel_size=(3, 3), stride=(1, 1), padding=(1, 1))\n",
      "    (4): BatchNorm(axis=1, eps=1e-05, momentum=0.9, fix_gamma=False, in_channels=16)\n",
      "    (5): Activation(relu)\n",
      "    (6): MaxPool2D(size=(2, 2), stride=(2, 2), padding=(0, 0), ceil_mode=False)\n",
      "  )\n",
      "  (1): HybridSequential(\n",
      "    (0): Conv2D(32, kernel_size=(3, 3), stride=(1, 1), padding=(1, 1))\n",
      "    (1): BatchNorm(axis=1, eps=1e-05, momentum=0.9, fix_gamma=False, in_channels=32)\n",
      "    (2): Activation(relu)\n",
      "    (3): Conv2D(32, kernel_size=(3, 3), stride=(1, 1), padding=(1, 1))\n",
      "    (4): BatchNorm(axis=1, eps=1e-05, momentum=0.9, fix_gamma=False, in_channels=32)\n",
      "    (5): Activation(relu)\n",
      "    (6): MaxPool2D(size=(2, 2), stride=(2, 2), padding=(0, 0), ceil_mode=False)\n",
      "  )\n",
      "  (2): HybridSequential(\n",
      "    (0): Conv2D(64, kernel_size=(3, 3), stride=(1, 1), padding=(1, 1))\n",
      "    (1): BatchNorm(axis=1, eps=1e-05, momentum=0.9, fix_gamma=False, in_channels=64)\n",
      "    (2): Activation(relu)\n",
      "    (3): Conv2D(64, kernel_size=(3, 3), stride=(1, 1), padding=(1, 1))\n",
      "    (4): BatchNorm(axis=1, eps=1e-05, momentum=0.9, fix_gamma=False, in_channels=64)\n",
      "    (5): Activation(relu)\n",
      "    (6): MaxPool2D(size=(2, 2), stride=(2, 2), padding=(0, 0), ceil_mode=False)\n",
      "  )\n",
      "), Sequential(\n",
      "  (0): HybridSequential(\n",
      "    (0): Conv2D(64, kernel_size=(3, 3), stride=(1, 1), padding=(1, 1))\n",
      "    (1): BatchNorm(axis=1, eps=1e-05, momentum=0.9, fix_gamma=False, in_channels=64)\n",
      "    (2): Activation(relu)\n",
      "    (3): Conv2D(64, kernel_size=(3, 3), stride=(1, 1), padding=(1, 1))\n",
      "    (4): BatchNorm(axis=1, eps=1e-05, momentum=0.9, fix_gamma=False, in_channels=64)\n",
      "    (5): Activation(relu)\n",
      "    (6): MaxPool2D(size=(2, 2), stride=(2, 2), padding=(0, 0), ceil_mode=False)\n",
      "  )\n",
      "  (1): HybridSequential(\n",
      "    (0): Conv2D(64, kernel_size=(3, 3), stride=(1, 1), padding=(1, 1))\n",
      "    (1): BatchNorm(axis=1, eps=1e-05, momentum=0.9, fix_gamma=False, in_channels=64)\n",
      "    (2): Activation(relu)\n",
      "    (3): Conv2D(64, kernel_size=(3, 3), stride=(1, 1), padding=(1, 1))\n",
      "    (4): BatchNorm(axis=1, eps=1e-05, momentum=0.9, fix_gamma=False, in_channels=64)\n",
      "    (5): Activation(relu)\n",
      "    (6): MaxPool2D(size=(2, 2), stride=(2, 2), padding=(0, 0), ceil_mode=False)\n",
      "  )\n",
      "), Sequential(\n",
      "  (0): Conv2D(25, kernel_size=(3, 3), stride=(1, 1), padding=(1, 1))\n",
      "  (1): Conv2D(25, kernel_size=(3, 3), stride=(1, 1), padding=(1, 1))\n",
      "  (2): Conv2D(25, kernel_size=(3, 3), stride=(1, 1), padding=(1, 1))\n",
      "  (3): Conv2D(25, kernel_size=(3, 3), stride=(1, 1), padding=(1, 1))\n",
      "), Sequential(\n",
      "  (0): Conv2D(20, kernel_size=(3, 3), stride=(1, 1), padding=(1, 1))\n",
      "  (1): Conv2D(20, kernel_size=(3, 3), stride=(1, 1), padding=(1, 1))\n",
      "  (2): Conv2D(20, kernel_size=(3, 3), stride=(1, 1), padding=(1, 1))\n",
      "  (3): Conv2D(20, kernel_size=(3, 3), stride=(1, 1), padding=(1, 1))\n",
      "))\n"
     ]
    }
   ],
   "source": [
    "def toy_ssd_model(num_anchors, num_classes):\n",
    "    \"\"\"return SSD modules\"\"\"\n",
    "    downsamples = nn.Sequential()\n",
    "    class_preds = nn.Sequential()\n",
    "    box_preds = nn.Sequential()\n",
    "\n",
    "    downsamples.add(down_sample(64))\n",
    "    downsamples.add(down_sample(64))\n",
    "    \n",
    "    for scale in range(4):\n",
    "        class_preds.add(class_predictor(num_anchors, num_classes))\n",
    "        box_preds.add(box_predictor(num_anchors))\n",
    "    \n",
    "    return body(), downsamples, class_preds, box_preds\n",
    "\n",
    "print(toy_ssd_model(5, 4))"
   ]
  },
  {
   "cell_type": "markdown",
   "metadata": {},
   "source": [
    "### Forward\n",
    "\n",
    "Given an input and the model, we can run the forward pass."
   ]
  },
  {
   "cell_type": "code",
   "execution_count": 73,
   "metadata": {
    "collapsed": true
   },
   "outputs": [],
   "source": [
    "def toy_ssd_forward(x, body, downsamples, class_preds, box_preds, sizes, ratios):                \n",
    "    # extract feature with the body network        \n",
    "    x = body(x)\n",
    "        \n",
    "    # for each scale, add anchors, box and class predictions,\n",
    "    # then compute the input to next scale \n",
    "    default_anchors = []\n",
    "    predicted_boxes = []  \n",
    "    predicted_classes = []\n",
    "                        \n",
    "    for i in range(4):\n",
    "        default_anchors.append(MultiBoxPrior(x, sizes=sizes[i], ratios=ratios[i]))\n",
    "        predicted_boxes.append(flatten_prediction(box_preds[i](x)))\n",
    "        predicted_classes.append(flatten_prediction(class_preds[i](x)))\n",
    "        if i < 2:\n",
    "            x = downsamples[i](x)\n",
    "        elif i == 2:\n",
    "            # simply use the pooling layer\n",
    "            x = nd.Pooling(x, global_pool=True, pool_type='max', kernel=(2, 2))\n",
    "\n",
    "    return default_anchors, predicted_classes, predicted_boxes"
   ]
  },
  {
   "cell_type": "markdown",
   "metadata": {},
   "source": [
    "### Put all things together"
   ]
  },
  {
   "cell_type": "code",
   "execution_count": 83,
   "metadata": {
    "collapsed": true,
    "scrolled": true
   },
   "outputs": [],
   "source": [
    "from mxnet import gluon\n",
    "class ToySSD(gluon.Block):\n",
    "    def __init__(self, num_classes, **kwargs):\n",
    "        super(ToySSD, self).__init__(**kwargs)\n",
    "        # anchor box sizes for 4 feature scales\n",
    "        self.anchor_sizes = [[.37, .447], [.54, .619], [.71, .79], [.88, .961]]\n",
    "        # anchor box ratios for 4 feature scales\n",
    "        self.anchor_ratios = [[1,2,.5]]*4\n",
    "        self.num_classes = num_classes\n",
    "\n",
    "        with self.name_scope():\n",
    "            self.body, self.downsamples, self.class_preds, self.box_preds = toy_ssd_model(5, num_classes)\n",
    "            \n",
    "    def forward(self, x):\n",
    "        default_anchors, predicted_classes, predicted_boxes = toy_ssd_forward(x, self.body, self.downsamples,\n",
    "            self.class_preds, self.box_preds, self.anchor_sizes, self.anchor_ratios)\n",
    "        # we want to concatenate anchors, class predictions, box predictions from different layers\n",
    "        anchors = concat_predictions(default_anchors)\n",
    "        box_preds = concat_predictions(predicted_boxes)\n",
    "        class_preds = concat_predictions(predicted_classes)\n",
    "        # it is better to have class predictions reshaped for softmax computation\n",
    "        class_preds = nd.reshape(class_preds, shape=(0, -1, self.num_classes + 1))\n",
    "        \n",
    "        return anchors, class_preds, box_preds"
   ]
  },
  {
   "cell_type": "markdown",
   "metadata": {},
   "source": [
    "### An instance of ToySSD"
   ]
  },
  {
   "cell_type": "code",
   "execution_count": 87,
   "metadata": {},
   "outputs": [
    {
     "name": "stdout",
     "output_type": "stream",
     "text": [
      "(1, 340, 4) (1, 425, 11) (1, 1700)\n"
     ]
    }
   ],
   "source": [
    "# instantiate a ToySSD network with 10 classes\n",
    "net = ToySSD(10)\n",
    "net.initialize()\n",
    "x = nd.zeros((1, 3, 64, 64))\n",
    "default_anchors, class_predictions, box_predictions = net(x)\n",
    "print(default_anchors.shape, class_predictions.shape, box_predictions.shape)"
   ]
  },
  {
   "cell_type": "markdown",
   "metadata": {},
   "source": [
    "## Dataset\n",
    "\n",
    "Let's find out how we can train a network to detect Pikachu in the wild.\n",
    "\n",
    "We provide a synthetic dataset from open source 3D models for Pikachu. The dataset consists of 1000 pikachus with random pose/scale/position in random background images. The exact locations are recorded as ground-truth for training and validation.\n",
    "\n",
    "![](https://user-images.githubusercontent.com/3307514/29479494-5dc28a02-8427-11e7-91d0-2849b88c17cd.png)\n"
   ]
  },
  {
   "cell_type": "markdown",
   "metadata": {},
   "source": [
    "### Load dataset"
   ]
  },
  {
   "cell_type": "code",
   "execution_count": 96,
   "metadata": {},
   "outputs": [
    {
     "name": "stdout",
     "output_type": "stream",
     "text": [
      "DataBatch: data shapes: [(4, 3, 256, 256)] label shapes: [(4, 1, 5)]\n"
     ]
    }
   ],
   "source": [
    "import mxnet.image as image\n",
    "data_shape = 256\n",
    "batch_size = 4\n",
    "def get_iterators(data_shape, batch_size):\n",
    "    class_names = ['pikachu', 'dummy']\n",
    "    num_class = len(class_names)\n",
    "    train_iter = image.ImageDetIter(\n",
    "        batch_size=batch_size, \n",
    "        data_shape=(3, data_shape, data_shape),\n",
    "        path_imgrec='./data/train.rec',\n",
    "        path_imgidx='./data/train.idx',\n",
    "        shuffle=True, \n",
    "        mean=True,\n",
    "        rand_crop=1, \n",
    "        min_object_covered=0.95, \n",
    "        max_attempts=200)\n",
    "    val_iter = image.ImageDetIter(\n",
    "        batch_size=1,\n",
    "        data_shape=(3, data_shape, data_shape),\n",
    "        path_imgrec='./data/val.rec',\n",
    "        path_imgidx='./data/val.idx',\n",
    "        shuffle=True,\n",
    "        mean=True)\n",
    "    return train_iter, val_iter, class_names, num_class\n",
    "\n",
    "train_data, test_data, class_names, num_class = get_iterators(data_shape, batch_size)\n",
    "batch = train_data.next()\n",
    "print(batch)"
   ]
  },
  {
   "cell_type": "markdown",
   "metadata": {},
   "source": [
    "### Illustration\n",
    "\n",
    "Let's display one image loaded by ImageDetIter."
   ]
  },
  {
   "cell_type": "code",
   "execution_count": 97,
   "metadata": {},
   "outputs": [
    {
     "name": "stdout",
     "output_type": "stream",
     "text": [
      "[ 0.          0.22702126  0.1454474   0.46144685  0.45811534]\n"
     ]
    },
    {
     "data": {
      "image/png": "[encoded data removed]",
      "text/plain": [
       "<matplotlib.figure.Figure at 0x1104ad978>"
      ]
     },
     "metadata": {},
     "output_type": "display_data"
    }
   ],
   "source": [
    "import numpy as np\n",
    "\n",
    "img = batch.data[0][0].asnumpy()  # grab the first image, convert to numpy array\n",
    "img = img.transpose((1, 2, 0))  # we want channel to be the last dimension\n",
    "img += np.array([123, 117, 104])\n",
    "img = img.astype(np.uint8)  # use uint8 (0-255)\n",
    "# draw bounding boxes on image\n",
    "for label in batch.label[0][0].asnumpy():\n",
    "    if label[0] < 0:\n",
    "        break\n",
    "    print(label)\n",
    "    xmin, ymin, xmax, ymax = [int(x * data_shape) for x in label[1:5]]\n",
    "    rect = plt.Rectangle((xmin, ymin), xmax - xmin, ymax - ymin, fill=False, edgecolor=(1, 0, 0), linewidth=3)\n",
    "    plt.gca().add_patch(rect)\n",
    "plt.imshow(img)\n",
    "plt.show()"
   ]
  },
  {
   "cell_type": "markdown",
   "metadata": {
    "collapsed": true
   },
   "source": [
    "## Prepare data\n",
    "\n",
    "First of all, we need a toy dataset to play with. Tiny datasets for object detection are rare, however, we can create a dataset for detection task from MNIST!"
   ]
  },
  {
   "cell_type": "code",
   "execution_count": 49,
   "metadata": {},
   "outputs": [
    {
     "name": "stdout",
     "output_type": "stream",
     "text": [
      "Class names: ['0', '1', '2', '3', '4', '5', '6', '7', '8', '9']\n"
     ]
    }
   ],
   "source": [
    "import mxnet as mx\n",
    "mnist = mx.test_utils.get_mnist()\n",
    "batch_size = 64\n",
    "train_data = mx.io.NDArrayIter(mnist[\"train_data\"], mnist[\"train_label\"], batch_size, shuffle=True)\n",
    "test_data = mx.io.NDArrayIter(mnist[\"test_data\"], mnist[\"test_label\"], batch_size, shuffle=True)\n",
    "class_names = [str(x) for x in range(10)]\n",
    "num_class = 10\n",
    "print('Class names:', class_names)"
   ]
  },
  {
   "cell_type": "markdown",
   "metadata": {},
   "source": [
    "Now we grab one batch, and print it to see the internal array shapes"
   ]
  },
  {
   "cell_type": "code",
   "execution_count": 50,
   "metadata": {},
   "outputs": [
    {
     "name": "stdout",
     "output_type": "stream",
     "text": [
      "DataBatch: data shapes: [(64, 1, 28, 28)] label shapes: [(64,)]\n"
     ]
    }
   ],
   "source": [
    "train_data.reset()\n",
    "batch = train_data.next()\n",
    "print(batch)"
   ]
  },
  {
   "cell_type": "markdown",
   "metadata": {},
   "source": [
    "And we can display the sample image using `matplotlib`"
   ]
  },
  {
   "cell_type": "code",
   "execution_count": 51,
   "metadata": {},
   "outputs": [
    {
     "data": {
      "image/png": "[encoded data removed]",
      "text/plain": [
       "<matplotlib.figure.Figure at 0x7f773bac2f28>"
      ]
     },
     "metadata": {},
     "output_type": "display_data"
    }
   ],
   "source": [
    "demo = batch.data[0][0].asnumpy()  # grab the first image, convert to numpy array\n",
    "demo = demo.transpose((1, 2, 0))  # we want channel to be the last dimension\n",
    "plt.imshow(demo[:, :, (0, 0, 0)])  # convert to 3-channels and display\n",
    "plt.show()"
   ]
  },
  {
   "cell_type": "markdown",
   "metadata": {},
   "source": [
    "Clearly, the dataset is good for classification task, but we want a dataset for detection. Surely we can produce one by randomly distorting and placing the digits at different positions."
   ]
  },
  {
   "cell_type": "code",
   "execution_count": 52,
   "metadata": {
    "collapsed": true
   },
   "outputs": [],
   "source": [
    "# Make objects not too tricky, so we can save training time\n",
    "data_shape = 64  # we want a reasonable size as input shape\n",
    "max_ratio = 1.5  # digits not too wide or tall\n",
    "min_size = 0.4  # digits not too small\n",
    "def get_batch(batch):\n",
    "    batch_size = batch.data[0].shape[0]\n",
    "    data = mx.nd.zeros((batch_size, 1, data_shape, data_shape))\n",
    "    label = mx.nd.full((batch_size, 3, 5), -1)\n",
    "    for k in range(batch_size):\n",
    "        # generate random width/height for the digits\n",
    "        w = int(round(random.uniform(min_size, 1) * data_shape))\n",
    "        h = int(round(random.uniform(min_size, 1) * data_shape))\n",
    "        # regulate the shape\n",
    "        if float(w) / h > max_ratio:\n",
    "            w = int(round(h * max_ratio))\n",
    "        if float(h) / w > max_ratio:\n",
    "            h = int(round(w * max_ratio))\n",
    "        # resize the digit\n",
    "        orig = batch.data[0][k].reshape((28, 28, 1))\n",
    "        warped = mx.image.imresize(orig, w, h)\n",
    "        # randomize the new location\n",
    "        x0 = random.randint(0, data_shape - w)\n",
    "        y0 = random.randint(0, data_shape - h)\n",
    "        # copy warped digits to the canvas\n",
    "        data[k, 0, y0 : y0 + h, x0 : x0 + w] = warped.reshape((1, 1, h, w))\n",
    "        # the label is the new location and size of the digits, as [id, xmin, ymin, xmax, ymax]\n",
    "        cid = batch.label[0][k].asscalar()\n",
    "        xmin = x0 / data_shape\n",
    "        ymin = y0 / data_shape\n",
    "        xmax = (x0 + w) / data_shape\n",
    "        ymax = (y0 + h) / data_shape\n",
    "        det_label = mx.nd.array([cid, xmin, ymin, xmax, ymax])\n",
    "        label[k, 0, :] = det_label.reshape((1, 1, 5))\n",
    "    return mx.io.DataBatch(data=[data], label=[label], index=batch.index, pad=batch.pad)"
   ]
  },
  {
   "cell_type": "code",
   "execution_count": 61,
   "metadata": {
    "collapsed": true
   },
   "outputs": [],
   "source": [
    "b = [[[ 0.   ,     0.265625,  0.53125,   0.75   ,   0.96875 ]]]"
   ]
  },
  {
   "cell_type": "code",
   "execution_count": 56,
   "metadata": {
    "collapsed": true
   },
   "outputs": [],
   "source": [
    "zz = get_batch(batch)"
   ]
  },
  {
   "cell_type": "code",
   "execution_count": 60,
   "metadata": {},
   "outputs": [
    {
     "data": {
      "text/plain": [
       "\n",
       "[[[ 6.        0.109375  0.0625    1.        0.875   ]\n",
       "  [-1.       -1.       -1.       -1.       -1.      ]\n",
       "  [-1.       -1.       -1.       -1.       -1.      ]]\n",
       "\n",
       " [[ 0.        0.09375   0.03125   0.6875    0.921875]\n",
       "  [-1.       -1.       -1.       -1.       -1.      ]\n",
       "  [-1.       -1.       -1.       -1.       -1.      ]]\n",
       "\n",
       " [[ 0.        0.0625    0.109375  0.859375  0.765625]\n",
       "  [-1.       -1.       -1.       -1.       -1.      ]\n",
       "  [-1.       -1.       -1.       -1.       -1.      ]]\n",
       "\n",
       " [[ 9.        0.3125    0.421875  1.        0.875   ]\n",
       "  [-1.       -1.       -1.       -1.       -1.      ]\n",
       "  [-1.       -1.       -1.       -1.       -1.      ]]\n",
       "\n",
       " [[ 2.        0.328125  0.078125  0.9375    0.984375]\n",
       "  [-1.       -1.       -1.       -1.       -1.      ]\n",
       "  [-1.       -1.       -1.       -1.       -1.      ]]\n",
       "\n",
       " [[ 8.        0.125     0.265625  0.96875   0.828125]\n",
       "  [-1.       -1.       -1.       -1.       -1.      ]\n",
       "  [-1.       -1.       -1.       -1.       -1.      ]]\n",
       "\n",
       " [[ 9.        0.09375   0.078125  0.5625    0.65625 ]\n",
       "  [-1.       -1.       -1.       -1.       -1.      ]\n",
       "  [-1.       -1.       -1.       -1.       -1.      ]]\n",
       "\n",
       " [[ 6.        0.03125   0.296875  0.8125    0.8125  ]\n",
       "  [-1.       -1.       -1.       -1.       -1.      ]\n",
       "  [-1.       -1.       -1.       -1.       -1.      ]]\n",
       "\n",
       " [[ 1.        0.34375   0.3125    0.953125  0.90625 ]\n",
       "  [-1.       -1.       -1.       -1.       -1.      ]\n",
       "  [-1.       -1.       -1.       -1.       -1.      ]]\n",
       "\n",
       " [[ 5.        0.15625   0.0625    0.984375  0.984375]\n",
       "  [-1.       -1.       -1.       -1.       -1.      ]\n",
       "  [-1.       -1.       -1.       -1.       -1.      ]]\n",
       "\n",
       " [[ 1.        0.        0.046875  0.984375  0.703125]\n",
       "  [-1.       -1.       -1.       -1.       -1.      ]\n",
       "  [-1.       -1.       -1.       -1.       -1.      ]]\n",
       "\n",
       " [[ 9.        0.15625   0.03125   0.578125  0.65625 ]\n",
       "  [-1.       -1.       -1.       -1.       -1.      ]\n",
       "  [-1.       -1.       -1.       -1.       -1.      ]]\n",
       "\n",
       " [[ 9.        0.140625  0.171875  0.578125  0.828125]\n",
       "  [-1.       -1.       -1.       -1.       -1.      ]\n",
       "  [-1.       -1.       -1.       -1.       -1.      ]]\n",
       "\n",
       " [[ 8.        0.390625  0.        0.921875  0.71875 ]\n",
       "  [-1.       -1.       -1.       -1.       -1.      ]\n",
       "  [-1.       -1.       -1.       -1.       -1.      ]]\n",
       "\n",
       " [[ 2.        0.        0.015625  0.8125    0.90625 ]\n",
       "  [-1.       -1.       -1.       -1.       -1.      ]\n",
       "  [-1.       -1.       -1.       -1.       -1.      ]]\n",
       "\n",
       " [[ 9.        0.015625  0.21875   0.703125  0.90625 ]\n",
       "  [-1.       -1.       -1.       -1.       -1.      ]\n",
       "  [-1.       -1.       -1.       -1.       -1.      ]]\n",
       "\n",
       " [[ 1.        0.28125   0.09375   0.859375  0.734375]\n",
       "  [-1.       -1.       -1.       -1.       -1.      ]\n",
       "  [-1.       -1.       -1.       -1.       -1.      ]]\n",
       "\n",
       " [[ 1.        0.21875   0.140625  0.96875   0.796875]\n",
       "  [-1.       -1.       -1.       -1.       -1.      ]\n",
       "  [-1.       -1.       -1.       -1.       -1.      ]]\n",
       "\n",
       " [[ 9.        0.109375  0.171875  0.96875   0.921875]\n",
       "  [-1.       -1.       -1.       -1.       -1.      ]\n",
       "  [-1.       -1.       -1.       -1.       -1.      ]]\n",
       "\n",
       " [[ 0.        0.078125  0.140625  0.765625  0.59375 ]\n",
       "  [-1.       -1.       -1.       -1.       -1.      ]\n",
       "  [-1.       -1.       -1.       -1.       -1.      ]]\n",
       "\n",
       " [[ 8.        0.046875  0.        0.828125  0.8125  ]\n",
       "  [-1.       -1.       -1.       -1.       -1.      ]\n",
       "  [-1.       -1.       -1.       -1.       -1.      ]]\n",
       "\n",
       " [[ 8.        0.265625  0.4375    0.890625  0.859375]\n",
       "  [-1.       -1.       -1.       -1.       -1.      ]\n",
       "  [-1.       -1.       -1.       -1.       -1.      ]]\n",
       "\n",
       " [[ 5.        0.1875    0.046875  0.90625   0.765625]\n",
       "  [-1.       -1.       -1.       -1.       -1.      ]\n",
       "  [-1.       -1.       -1.       -1.       -1.      ]]\n",
       "\n",
       " [[ 9.        0.21875   0.09375   0.921875  0.953125]\n",
       "  [-1.       -1.       -1.       -1.       -1.      ]\n",
       "  [-1.       -1.       -1.       -1.       -1.      ]]\n",
       "\n",
       " [[ 7.        0.171875  0.171875  0.671875  0.921875]\n",
       "  [-1.       -1.       -1.       -1.       -1.      ]\n",
       "  [-1.       -1.       -1.       -1.       -1.      ]]\n",
       "\n",
       " [[ 5.        0.3125    0.265625  0.984375  0.734375]\n",
       "  [-1.       -1.       -1.       -1.       -1.      ]\n",
       "  [-1.       -1.       -1.       -1.       -1.      ]]\n",
       "\n",
       " [[ 0.        0.        0.        0.96875   1.      ]\n",
       "  [-1.       -1.       -1.       -1.       -1.      ]\n",
       "  [-1.       -1.       -1.       -1.       -1.      ]]\n",
       "\n",
       " [[ 3.        0.125     0.328125  0.875     0.828125]\n",
       "  [-1.       -1.       -1.       -1.       -1.      ]\n",
       "  [-1.       -1.       -1.       -1.       -1.      ]]\n",
       "\n",
       " [[ 9.        0.359375  0.1875    0.796875  0.84375 ]\n",
       "  [-1.       -1.       -1.       -1.       -1.      ]\n",
       "  [-1.       -1.       -1.       -1.       -1.      ]]\n",
       "\n",
       " [[ 4.        0.078125  0.125     0.640625  0.96875 ]\n",
       "  [-1.       -1.       -1.       -1.       -1.      ]\n",
       "  [-1.       -1.       -1.       -1.       -1.      ]]\n",
       "\n",
       " [[ 1.        0.125     0.        0.96875   1.      ]\n",
       "  [-1.       -1.       -1.       -1.       -1.      ]\n",
       "  [-1.       -1.       -1.       -1.       -1.      ]]\n",
       "\n",
       " [[ 7.        0.125     0.0625    0.90625   0.71875 ]\n",
       "  [-1.       -1.       -1.       -1.       -1.      ]\n",
       "  [-1.       -1.       -1.       -1.       -1.      ]]\n",
       "\n",
       " [[ 5.        0.125     0.046875  0.9375    0.953125]\n",
       "  [-1.       -1.       -1.       -1.       -1.      ]\n",
       "  [-1.       -1.       -1.       -1.       -1.      ]]\n",
       "\n",
       " [[ 6.        0.203125  0.234375  0.90625   0.703125]\n",
       "  [-1.       -1.       -1.       -1.       -1.      ]\n",
       "  [-1.       -1.       -1.       -1.       -1.      ]]\n",
       "\n",
       " [[ 2.        0.109375  0.        0.90625   0.71875 ]\n",
       "  [-1.       -1.       -1.       -1.       -1.      ]\n",
       "  [-1.       -1.       -1.       -1.       -1.      ]]\n",
       "\n",
       " [[ 2.        0.109375  0.046875  1.        0.640625]\n",
       "  [-1.       -1.       -1.       -1.       -1.      ]\n",
       "  [-1.       -1.       -1.       -1.       -1.      ]]\n",
       "\n",
       " [[ 6.        0.390625  0.109375  0.796875  0.59375 ]\n",
       "  [-1.       -1.       -1.       -1.       -1.      ]\n",
       "  [-1.       -1.       -1.       -1.       -1.      ]]\n",
       "\n",
       " [[ 2.        0.03125   0.15625   1.        0.953125]\n",
       "  [-1.       -1.       -1.       -1.       -1.      ]\n",
       "  [-1.       -1.       -1.       -1.       -1.      ]]\n",
       "\n",
       " [[ 5.        0.453125  0.328125  0.96875   0.890625]\n",
       "  [-1.       -1.       -1.       -1.       -1.      ]\n",
       "  [-1.       -1.       -1.       -1.       -1.      ]]\n",
       "\n",
       " [[ 0.        0.1875    0.        0.90625   1.      ]\n",
       "  [-1.       -1.       -1.       -1.       -1.      ]\n",
       "  [-1.       -1.       -1.       -1.       -1.      ]]\n",
       "\n",
       " [[ 5.        0.140625  0.        0.90625   0.96875 ]\n",
       "  [-1.       -1.       -1.       -1.       -1.      ]\n",
       "  [-1.       -1.       -1.       -1.       -1.      ]]\n",
       "\n",
       " [[ 4.        0.125     0.046875  0.828125  0.703125]\n",
       "  [-1.       -1.       -1.       -1.       -1.      ]\n",
       "  [-1.       -1.       -1.       -1.       -1.      ]]\n",
       "\n",
       " [[ 2.        0.046875  0.125     0.5       0.8125  ]\n",
       "  [-1.       -1.       -1.       -1.       -1.      ]\n",
       "  [-1.       -1.       -1.       -1.       -1.      ]]\n",
       "\n",
       " [[ 4.        0.171875  0.015625  1.        0.921875]\n",
       "  [-1.       -1.       -1.       -1.       -1.      ]\n",
       "  [-1.       -1.       -1.       -1.       -1.      ]]\n",
       "\n",
       " [[ 7.        0.234375  0.296875  0.890625  0.734375]\n",
       "  [-1.       -1.       -1.       -1.       -1.      ]\n",
       "  [-1.       -1.       -1.       -1.       -1.      ]]\n",
       "\n",
       " [[ 4.        0.015625  0.        0.96875   0.6875  ]\n",
       "  [-1.       -1.       -1.       -1.       -1.      ]\n",
       "  [-1.       -1.       -1.       -1.       -1.      ]]\n",
       "\n",
       " [[ 0.        0.265625  0.53125   0.75      0.96875 ]\n",
       "  [-1.       -1.       -1.       -1.       -1.      ]\n",
       "  [-1.       -1.       -1.       -1.       -1.      ]]\n",
       "\n",
       " [[ 9.        0.25      0.53125   0.859375  0.9375  ]\n",
       "  [-1.       -1.       -1.       -1.       -1.      ]\n",
       "  [-1.       -1.       -1.       -1.       -1.      ]]\n",
       "\n",
       " [[ 0.        0.15625   0.015625  0.953125  0.765625]\n",
       "  [-1.       -1.       -1.       -1.       -1.      ]\n",
       "  [-1.       -1.       -1.       -1.       -1.      ]]\n",
       "\n",
       " [[ 6.        0.1875    0.34375   0.96875   0.921875]\n",
       "  [-1.       -1.       -1.       -1.       -1.      ]\n",
       "  [-1.       -1.       -1.       -1.       -1.      ]]\n",
       "\n",
       " [[ 9.        0.3125    0.375     0.90625   0.84375 ]\n",
       "  [-1.       -1.       -1.       -1.       -1.      ]\n",
       "  [-1.       -1.       -1.       -1.       -1.      ]]\n",
       "\n",
       " [[ 2.        0.140625  0.03125   0.734375  0.703125]\n",
       "  [-1.       -1.       -1.       -1.       -1.      ]\n",
       "  [-1.       -1.       -1.       -1.       -1.      ]]\n",
       "\n",
       " [[ 6.        0.03125   0.015625  1.        0.890625]\n",
       "  [-1.       -1.       -1.       -1.       -1.      ]\n",
       "  [-1.       -1.       -1.       -1.       -1.      ]]\n",
       "\n",
       " [[ 1.        0.21875   0.015625  0.953125  0.921875]\n",
       "  [-1.       -1.       -1.       -1.       -1.      ]\n",
       "  [-1.       -1.       -1.       -1.       -1.      ]]\n",
       "\n",
       " [[ 0.        0.0625    0.15625   0.78125   0.640625]\n",
       "  [-1.       -1.       -1.       -1.       -1.      ]\n",
       "  [-1.       -1.       -1.       -1.       -1.      ]]\n",
       "\n",
       " [[ 3.        0.265625  0.046875  0.8125    0.859375]\n",
       "  [-1.       -1.       -1.       -1.       -1.      ]\n",
       "  [-1.       -1.       -1.       -1.       -1.      ]]\n",
       "\n",
       " [[ 9.        0.046875  0.28125   1.        0.96875 ]\n",
       "  [-1.       -1.       -1.       -1.       -1.      ]\n",
       "  [-1.       -1.       -1.       -1.       -1.      ]]\n",
       "\n",
       " [[ 5.        0.078125  0.09375   0.546875  0.796875]\n",
       "  [-1.       -1.       -1.       -1.       -1.      ]\n",
       "  [-1.       -1.       -1.       -1.       -1.      ]]\n",
       "\n",
       " [[ 6.        0.03125   0.046875  0.8125    0.875   ]\n",
       "  [-1.       -1.       -1.       -1.       -1.      ]\n",
       "  [-1.       -1.       -1.       -1.       -1.      ]]\n",
       "\n",
       " [[ 4.        0.046875  0.28125   0.84375   0.8125  ]\n",
       "  [-1.       -1.       -1.       -1.       -1.      ]\n",
       "  [-1.       -1.       -1.       -1.       -1.      ]]\n",
       "\n",
       " [[ 9.        0.421875  0.203125  0.890625  0.890625]\n",
       "  [-1.       -1.       -1.       -1.       -1.      ]\n",
       "  [-1.       -1.       -1.       -1.       -1.      ]]\n",
       "\n",
       " [[ 8.        0.265625  0.15625   0.890625  0.890625]\n",
       "  [-1.       -1.       -1.       -1.       -1.      ]\n",
       "  [-1.       -1.       -1.       -1.       -1.      ]]\n",
       "\n",
       " [[ 2.        0.0625    0.40625   0.671875  0.8125  ]\n",
       "  [-1.       -1.       -1.       -1.       -1.      ]\n",
       "  [-1.       -1.       -1.       -1.       -1.      ]]\n",
       "\n",
       " [[ 4.        0.359375  0.28125   0.875     0.734375]\n",
       "  [-1.       -1.       -1.       -1.       -1.      ]\n",
       "  [-1.       -1.       -1.       -1.       -1.      ]]]\n",
       "<NDArray 64x3x5 @cpu(0)>"
      ]
     },
     "execution_count": 60,
     "metadata": {},
     "output_type": "execute_result"
    }
   ],
   "source": [
    "zz.label[0]"
   ]
  },
  {
   "cell_type": "markdown",
   "metadata": {},
   "source": [
    "Now, with `get_batch` function, we are getting data for detection task!"
   ]
  },
  {
   "cell_type": "code",
   "execution_count": 6,
   "metadata": {},
   "outputs": [
    {
     "name": "stdout",
     "output_type": "stream",
     "text": [
      "label for detection: [ 8.        0.25      0.015625  0.96875   0.5     ]\n"
     ]
    },
    {
     "data": {
      "image/png": "[encoded data removed]",
      "text/plain": [
       "<matplotlib.figure.Figure at 0x7f4424514828>"
      ]
     },
     "metadata": {},
     "output_type": "display_data"
    }
   ],
   "source": [
    "det_batch = get_batch(batch)\n",
    "demo = det_batch.data[0][0].asnumpy()  # grab the first image, convert to numpy array\n",
    "demo = demo.transpose((1, 2, 0))  # we want channel to be the last dimension\n",
    "plt.imshow(demo[:, :, (0, 0, 0)])  # convert to 3-channels and display\n",
    "label = det_batch.label[0][0][0].asnumpy()\n",
    "print('label for detection:', label)\n",
    "xmin, ymin, xmax, ymax = [int(x * data_shape) for x in label[1:5]]\n",
    "rect = plt.Rectangle((xmin, ymin), xmax - xmin, ymax - ymin, fill=False, edgecolor=(1, 1, 1))\n",
    "plt.gca().add_patch(rect)\n",
    "plt.show()"
   ]
  },
  {
   "cell_type": "markdown",
   "metadata": {},
   "source": [
    "The white bounding box around digit is the desired detection box, namely, ground-truth."
   ]
  },
  {
   "cell_type": "markdown",
   "metadata": {},
   "source": [
    "## Detection network\n",
    "\n",
    "There are multiple convolutional neural network meta-structures specifically designed for object detection. In this section we use Single-Shot Detector (SSD) as an example, and illustrate how a general object detection training/test workflow looks like.\n",
    "\n",
    "### There are three key points making SSD network different from normal convolutional neural networks:\n",
    "\n",
    "Details available at https://arxiv.org/abs/1512.02325\n",
    "\n",
    "* Multi-scale feature maps for detection\n",
    "\n",
    "* Multiple anchors boxes with different scales and aspect ratios\n",
    "\n",
    "* Convolutional predictors\n",
    "\n",
    "### In summary, we need:\n",
    "* A backbone network producing feature maps in different sizes. We can achieve this by stacking `Conv-BatchNorm-Relu` layers followed by `MaxPooling` layer to reduce the feature map size by a factor of 2. For a 64x64 input image, this could produce feature maps with size 32x32, 16x16, 8x8, 4x4, 2x2, 1x1. \n",
    "\n",
    "* Anchor boxes generator. We want multiple anchors with different scales and aspect ratios, so that there always exist an anchor box highly overlaps with an object on image. In this tutorial, we are going to use the following parameters:\n",
    "\n",
    "    8x8 --> sizes [0.37, 0.447] --> ratios [1, 2, 0.5]\n",
    "\n",
    "    4x4 --> sizes [0.54, 0.619] --> ratios [1, 2, 0.5]\n",
    "\n",
    "    2x2 --> sizes [0.71, 0.79]  --> ratios [1, 2, 0.5]\n",
    "\n",
    "    1x1 --> sizes [0.88, 0.961] --> ratios [1, 2, 0.5]\n",
    "    \n",
    "    16x16 feature map might be good for smaller objects, but we skip it in this tutorial in trade of faster convergence.\n",
    "\n",
    "* 3x3 Convolutional layers are responsible for predict class probabilities, as well as the box deformation predictions. Each convolution channel is responsible for a certain (scale, ratio, feature map) combination.\n",
    "\n",
    "### Training target in one sentence\n",
    "![](https://user-images.githubusercontent.com/3307514/28603710-9e7d4d80-717a-11e7-95ed-dd08763fed87.png)\n",
    "\n",
    "Applying convolutional predictors to feature maps in a sliding window fashion (convolutional built-in characteristics), predicting whether the correspoding anchor is an object (and what class) or background, and how much deformation the corresponding anchor box should transform to cover the object.\n",
    "\n",
    "\n"
   ]
  },
  {
   "cell_type": "code",
   "execution_count": 40,
   "metadata": {
    "collapsed": true
   },
   "outputs": [],
   "source": [
    "from mxnet import gluon\n",
    "class ToySSD2(gluon.Block):\n",
    "    def __init__(self, num_class, **kwargs):\n",
    "        super(ToySSD2, self).__init__(**kwargs)\n",
    "        # sizes control the scale of anchor boxes, with decreasing feature map size,\n",
    "        # the anchor boxes are expected to be larger in design\n",
    "        self.sizes = [[.37, .447], [.54, .619], [.71, .79], [.88, .961]]\n",
    "        # ratios control the aspect ratio of anchor boxes, here we use 1, 2, 0.5\n",
    "        self.ratios = [[1,2,.5], [1,2,.5], [1,2,.5], [1,2,.5]]\n",
    "        num_anchors = [len(x) + len(y) - 1 for x, y in zip(self.sizes, self.ratios)]\n",
    "        self.num_anchors = num_anchors\n",
    "        self.num_class = num_class\n",
    "        with self.name_scope():\n",
    "            # first build a body as feature\n",
    "            self.body = nn.HybridSequential()\n",
    "            # 64 x 64\n",
    "            # make basic block is a stack of sequential conv layers, followed by\n",
    "            # a pooling layer to reduce feature map size\n",
    "            self.body.add(self._make_basic_block(16))\n",
    "            # 32 x 32\n",
    "            self.body.add(self._make_basic_block(32))\n",
    "            # 16 x 16\n",
    "            self.body.add(self._make_basic_block(64))\n",
    "            # 8 x 8\n",
    "            # use cls1 conv layer to get the class predictions on 8x8 feature map\n",
    "            # use loc1 conv layer to get location offsets on 8x8 feature map\n",
    "            # use blk1 conv block to reduce the feature map size again\n",
    "            self.cls1 = nn.Conv2D(num_anchors[0] * (num_class + 1), 3, padding=1)\n",
    "            self.loc1 = nn.Conv2D(num_anchors[0] * 4, 3, padding=1)\n",
    "            self.blk1 = self._make_basic_block(64)\n",
    "            # 4 x 4\n",
    "            self.cls2 = nn.Conv2D(num_anchors[1] * (num_class + 1), 3, padding=1)\n",
    "            self.loc2 = nn.Conv2D(num_anchors[1] * 4, 3, padding=1)\n",
    "            self.blk2 = self._make_basic_block(64)\n",
    "            # 2 x 2\n",
    "            self.cls3 = nn.Conv2D(num_anchors[2] * (num_class + 1), 3, padding=1)\n",
    "            self.loc3 = nn.Conv2D(num_anchors[2] * 4, 3, padding=1)\n",
    "            # 1 x 1\n",
    "            self.cls4 = nn.Conv2D(num_anchors[3] * (num_class + 1), 3, padding=1)\n",
    "            self.loc4 = nn.Conv2D(num_anchors[3] * 4, 3, padding=1)\n",
    "\n",
    "    def _make_basic_block(self, num_filter):\n",
    "        \"\"\"Basic block is a stack of sequential convolution layers, followed by\n",
    "        a pooling layer to reduce feature map. \"\"\"\n",
    "        out = nn.HybridSequential()\n",
    "        out.add(nn.Conv2D(num_filter, 3, strides=1, padding=1))\n",
    "        out.add(nn.BatchNorm(in_channels=num_filter))\n",
    "        out.add(nn.Activation('relu'))\n",
    "        out.add(nn.Conv2D(num_filter, 3, strides=1, padding=1))\n",
    "        out.add(nn.BatchNorm(in_channels=num_filter))\n",
    "        out.add(nn.Activation('relu'))\n",
    "        out.add(nn.MaxPool2D())\n",
    "        return out\n",
    "\n",
    "    def forward(self, x):\n",
    "        anchors = []\n",
    "        loc_preds = []\n",
    "        cls_preds = []\n",
    "        x = self.body(x)\n",
    "        # 8 x 8, generate anchors, predict class and location offsets with conv layer\n",
    "        # transpose, reshape and append to list for further concatenation\n",
    "        anchors.append(MultiBoxPrior(x, sizes=self.sizes[0], ratios=self.ratios[0]))\n",
    "        loc_preds.append(nd.flatten(nd.transpose(self.loc1(x), axes=(0, 2, 3, 1))))\n",
    "        cls_preds.append(nd.flatten(nd.transpose(self.cls1(x), axes=(0, 2, 3, 1))))\n",
    "        x = self.blk1(x)\n",
    "        # 4 x 4\n",
    "        anchors.append(MultiBoxPrior(x, sizes=self.sizes[1], ratios=self.ratios[1]))\n",
    "        loc_preds.append(nd.flatten(nd.transpose(self.loc2(x), axes=(0, 2, 3, 1))))\n",
    "        cls_preds.append(nd.flatten(nd.transpose(self.cls2(x), axes=(0, 2, 3, 1))))\n",
    "        x = self.blk2(x)\n",
    "        # 2 x 2\n",
    "        anchors.append(MultiBoxPrior(x, sizes=self.sizes[2], ratios=self.ratios[2]))\n",
    "        loc_preds.append(nd.flatten(nd.transpose(self.loc3(x), axes=(0, 2, 3, 1))))\n",
    "        cls_preds.append(nd.flatten(nd.transpose(self.cls3(x), axes=(0, 2, 3, 1))))\n",
    "        # we use pooling directly here without convolution layers\n",
    "        x = nd.Pooling(x, global_pool=True, pool_type='max', kernel=(2, 2))\n",
    "        # 1 x 1\n",
    "        anchors.append(MultiBoxPrior(x, sizes=self.sizes[3], ratios=self.ratios[3]))\n",
    "        loc_preds.append(nd.flatten(nd.transpose(self.loc4(x), axes=(0, 2, 3, 1))))\n",
    "        cls_preds.append(nd.flatten(nd.transpose(self.cls4(x), axes=(0, 2, 3, 1))))\n",
    "        # concat multiple layers\n",
    "        anchors = nd.concat(*anchors, dim=1)\n",
    "        # anchors = nd.reshape(nd.concat(*anchors, dim=1), shape=(0, -1, 4))\n",
    "        loc_preds = nd.concat(*loc_preds, dim=1)\n",
    "        #cls_preds = nd.concat(*cls_preds, dim=1)\n",
    "        cls_preds = nd.reshape(nd.concat(*cls_preds, dim=1), (0, -1, self.num_class+1))\n",
    "        cls_preds = nd.transpose(cls_preds, axes=(0, 2, 1))\n",
    "        return [anchors, cls_preds, loc_preds]"
   ]
  },
  {
   "cell_type": "code",
   "execution_count": 41,
   "metadata": {
    "collapsed": true
   },
   "outputs": [],
   "source": [
    "net = ToySSD2(4)\n",
    "net.initialize()\n"
   ]
  },
  {
   "cell_type": "code",
   "execution_count": 77,
   "metadata": {},
   "outputs": [
    {
     "data": {
      "text/plain": [
       "[(1, 340, 4), (2, 5, 340), (2, 1360)]"
      ]
     },
     "execution_count": 77,
     "metadata": {},
     "output_type": "execute_result"
    }
   ],
   "source": [
    "y = net(nd.zeros((2,3,64,64)))\n",
    "[y[0].shape, y[1].shape, y[2].shape]"
   ]
  },
  {
   "cell_type": "markdown",
   "metadata": {},
   "source": [
    "ToySSD network takes a batch of images `(64, 1, 64, 64)` as input, and will output three components:\n",
    "\n",
    "1. Concatenated anchors with shape `(1, 340, 4)` scattered around images with all kinds of scales and aspect ratios. The first dimension is 1, indicating all anchors are shared across batches, second is the number of anchors, the third dimension is for box coordinates (xmin, ymin, xmax, ymax)\n",
    "\n",
    "2. Concatenated class predictions with shape `(64, 11, 340)`, first dimension is the `batch_size`, second is per-class prediction for `(background, 0, 1, ..., 9)`, the last dimension is number of anchors.\n",
    "\n",
    "3. Concatenated location predictions with shape `(64, 340 * 4)`."
   ]
  },
  {
   "cell_type": "markdown",
   "metadata": {},
   "source": [
    "## Losses\n",
    "\n",
    "Two types of loss functions are involved here. \n",
    "* Cross-entropy loss is typical for softmax classification problems, which serves as classification loss for all anchor boxes. \n",
    "\n",
    "* L2Loss is used to penalize incorrect bounding box offsets. We can play with L1Loss, SmoothL1Loss as well."
   ]
  },
  {
   "cell_type": "code",
   "execution_count": 8,
   "metadata": {
    "collapsed": true
   },
   "outputs": [],
   "source": [
    "cls_loss = gluon.loss.SoftmaxCrossEntropyLoss()  # for softmax classification, typical for classification\n",
    "loc_loss = gluon.loss.L2Loss()  # typical for regression"
   ]
  },
  {
   "cell_type": "markdown",
   "metadata": {},
   "source": [
    "## Evaluate metrics\n",
    "\n",
    "Evalute metrics are for collectting training status, which has no effect on training itself."
   ]
  },
  {
   "cell_type": "code",
   "execution_count": 9,
   "metadata": {
    "collapsed": true
   },
   "outputs": [],
   "source": [
    "cls_metric = mx.metric.Accuracy()\n",
    "loc_metric = mx.metric.MAE()"
   ]
  },
  {
   "cell_type": "markdown",
   "metadata": {},
   "source": [
    "## Create network"
   ]
  },
  {
   "cell_type": "code",
   "execution_count": 10,
   "metadata": {
    "collapsed": true
   },
   "outputs": [],
   "source": [
    "net = ToySSD(num_class)  # create a net to predict 10-class digits"
   ]
  },
  {
   "cell_type": "markdown",
   "metadata": {},
   "source": [
    "## Set the context"
   ]
  },
  {
   "cell_type": "code",
   "execution_count": 11,
   "metadata": {
    "collapsed": true
   },
   "outputs": [],
   "source": [
    "ctx = mx.gpu()  # it takes too long to train using CPU\n",
    "try:\n",
    "    _ = nd.zeros(1, ctx=ctx)\n",
    "except mx.base.MXNetError as err:\n",
    "    print('No GPU enabled, fall back to CPU, which will be slow...')\n",
    "    ctx = mx.cpu()"
   ]
  },
  {
   "cell_type": "markdown",
   "metadata": {},
   "source": [
    "## Initalize parameters"
   ]
  },
  {
   "cell_type": "code",
   "execution_count": 12,
   "metadata": {
    "collapsed": true
   },
   "outputs": [],
   "source": [
    "net.collect_params().initialize(mx.init.Xavier(magnitude=2.34), ctx=ctx)"
   ]
  },
  {
   "cell_type": "markdown",
   "metadata": {},
   "source": [
    "## Trainer"
   ]
  },
  {
   "cell_type": "code",
   "execution_count": 13,
   "metadata": {
    "collapsed": true
   },
   "outputs": [],
   "source": [
    "trainer = gluon.Trainer(net.collect_params(), 'sgd', {'learning_rate': 0.1})"
   ]
  },
  {
   "cell_type": "markdown",
   "metadata": {},
   "source": [
    "## Start training"
   ]
  },
  {
   "cell_type": "code",
   "execution_count": 14,
   "metadata": {},
   "outputs": [
    {
     "name": "stdout",
     "output_type": "stream",
     "text": [
      "[Epoch 0 Batch 0] speed: 63.873648 samples/s, training: accuracy=0.168796, mae=0.025306\n",
      "[Epoch 0 Batch 500] speed: 731.318177 samples/s, training: accuracy=0.978992, mae=0.014439\n",
      "[Epoch 0] training: accuracy=0.980648, mae=0.012896\n",
      "[Epoch 0] time cost: 82.171110\n",
      "[Epoch 1 Batch 0] speed: 761.799972 samples/s, training: accuracy=0.984007, mae=0.009442\n",
      "[Epoch 1 Batch 500] speed: 779.345587 samples/s, training: accuracy=0.983687, mae=0.010100\n",
      "[Epoch 1] training: accuracy=0.984245, mae=0.009854\n",
      "[Epoch 1] time cost: 75.744250\n",
      "[Epoch 2 Batch 0] speed: 801.397950 samples/s, training: accuracy=0.986397, mae=0.008735\n",
      "[Epoch 2 Batch 500] speed: 801.020109 samples/s, training: accuracy=0.986059, mae=0.009199\n",
      "[Epoch 2] training: accuracy=0.986528, mae=0.009079\n",
      "[Epoch 2] time cost: 75.629008\n",
      "[Epoch 3 Batch 0] speed: 799.493253 samples/s, training: accuracy=0.986994, mae=0.009463\n",
      "[Epoch 3 Batch 500] speed: 797.431730 samples/s, training: accuracy=0.987933, mae=0.008785\n",
      "[Epoch 3] training: accuracy=0.988277, mae=0.008705\n",
      "[Epoch 3] time cost: 75.290620\n",
      "[Epoch 4 Batch 0] speed: 807.341676 samples/s, training: accuracy=0.987960, mae=0.009394\n",
      "[Epoch 4 Batch 500] speed: 779.984182 samples/s, training: accuracy=0.989378, mae=0.008376\n",
      "[Epoch 4] training: accuracy=0.989637, mae=0.008299\n",
      "[Epoch 4] time cost: 75.261538\n",
      "[Epoch 5 Batch 0] speed: 840.399782 samples/s, training: accuracy=0.989752, mae=0.007622\n",
      "[Epoch 5 Batch 500] speed: 790.092350 samples/s, training: accuracy=0.990405, mae=0.008082\n",
      "[Epoch 5] training: accuracy=0.990609, mae=0.008001\n",
      "[Epoch 5] time cost: 73.699337\n",
      "[Epoch 6 Batch 0] speed: 815.184777 samples/s, training: accuracy=0.990395, mae=0.007929\n",
      "[Epoch 6 Batch 500] speed: 877.630110 samples/s, training: accuracy=0.991280, mae=0.007763\n",
      "[Epoch 6] training: accuracy=0.991397, mae=0.007702\n",
      "[Epoch 6] time cost: 71.086407\n",
      "[Epoch 7 Batch 0] speed: 820.451910 samples/s, training: accuracy=0.990487, mae=0.008108\n",
      "[Epoch 7 Batch 500] speed: 830.539829 samples/s, training: accuracy=0.991831, mae=0.007512\n",
      "[Epoch 7] training: accuracy=0.991931, mae=0.007435\n",
      "[Epoch 7] time cost: 73.209482\n"
     ]
    }
   ],
   "source": [
    "epochs = 8  # set larger to get better performance\n",
    "log_interval = 500\n",
    "for epoch in range(epochs):\n",
    "    # reset iterator and tick\n",
    "    train_data.reset()\n",
    "    cls_metric.reset()\n",
    "    loc_metric.reset()\n",
    "    tic = time.time()\n",
    "    # iterate through all batch\n",
    "    for i, batch in enumerate(train_data):\n",
    "        btic = time.time()\n",
    "        det_batch = get_batch(batch)\n",
    "        # record gradients\n",
    "        with ag.record():\n",
    "            x = det_batch.data[0].as_in_context(ctx)\n",
    "            y = det_batch.label[0].as_in_context(ctx)\n",
    "            anchors, cls_preds, loc_preds = net(x)\n",
    "            z = MultiBoxTarget(*[anchors, y, cls_preds])\n",
    "            loc_target = z[0]  # loc offset target for (x, y, width, height)\n",
    "            loc_mask = z[1]  # mask is used to ignore predictions we don't want to penalize\n",
    "            cls_target = z[2]  # cls_target is an array of labels for all anchors boxes\n",
    "            # losses\n",
    "            loss1 = cls_loss(nd.transpose(cls_preds, (0, 2, 1)), cls_target)\n",
    "            loss2 = loc_loss(loc_preds * loc_mask, loc_target)\n",
    "            # sum all losses\n",
    "            loss = loss1 + loss2\n",
    "            # backpropagate\n",
    "            loss.backward()\n",
    "        # apply optimizer\n",
    "        trainer.step(batch_size)\n",
    "        # update metrics\n",
    "        cls_metric.update([cls_target], [cls_preds])\n",
    "        loc_metric.update([loc_target], [loc_preds * loc_mask])\n",
    "        if i % log_interval == 0:\n",
    "            name1, val1 = cls_metric.get()\n",
    "            name2, val2 = loc_metric.get()\n",
    "            print('[Epoch %d Batch %d] speed: %f samples/s, training: %s=%f, %s=%f' \n",
    "                  %(epoch ,i, batch_size/(time.time()-btic), name1, val1, name2, val2))\n",
    "    \n",
    "    # end of epoch logging\n",
    "    name1, val1 = cls_metric.get()\n",
    "    name2, val2 = loc_metric.get()\n",
    "    print('[Epoch %d] training: %s=%f, %s=%f'%(epoch, name1, val1, name2, val2))\n",
    "    print('[Epoch %d] time cost: %f'%(epoch, time.time()-tic))\n",
    "    \n",
    "# we can save the trained parameters to disk\n",
    "# net.save_params('ssd_%d.params' % epochs)"
   ]
  },
  {
   "cell_type": "markdown",
   "metadata": {},
   "source": [
    "## Display results"
   ]
  },
  {
   "cell_type": "code",
   "execution_count": 17,
   "metadata": {},
   "outputs": [
    {
     "data": {
      "image/png": "[encoded data removed]",
      "text/plain": [
       "<matplotlib.figure.Figure at 0x7f4424532400>"
      ]
     },
     "metadata": {},
     "output_type": "display_data"
    },
    {
     "data": {
      "image/png": "[encoded data removed]",
      "text/plain": [
       "<matplotlib.figure.Figure at 0x7f44240d3908>"
      ]
     },
     "metadata": {},
     "output_type": "display_data"
    },
    {
     "data": {
      "image/png": "[encoded data removed]",
      "text/plain": [
       "<matplotlib.figure.Figure at 0x7f44241e1358>"
      ]
     },
     "metadata": {},
     "output_type": "display_data"
    },
    {
     "data": {
      "image/png": "[encoded data removed]",
      "text/plain": [
       "<matplotlib.figure.Figure at 0x7f442406b4e0>"
      ]
     },
     "metadata": {},
     "output_type": "display_data"
    },
    {
     "data": {
      "image/png": "[encoded data removed]",
      "text/plain": [
       "<matplotlib.figure.Figure at 0x7f44243337f0>"
      ]
     },
     "metadata": {},
     "output_type": "display_data"
    }
   ],
   "source": [
    "# if pre-trained model is provided, we can load it\n",
    "# net.load_params('ssd_%d.params' % epochs, ctx)\n",
    "test_data.reset()\n",
    "count = 0\n",
    "limit = 5\n",
    "pens = dict()\n",
    "thresh = 0.1\n",
    "while count < limit:\n",
    "    x = get_batch(test_data.next()).data[0].as_in_context(ctx)\n",
    "    # network inference\n",
    "    anchors, cls_preds, loc_preds = net(x)\n",
    "    # convert predictions to probabilities\n",
    "    cls_probs = nd.SoftmaxActivation(cls_preds, mode='channel')\n",
    "    # apply shifts to anchors boxes, non-maximum-suppression, etc...\n",
    "    output = MultiBoxDetection(*[cls_probs, loc_preds, anchors], force_suppress=True, clip=True)\n",
    "    for k, out in enumerate(output.asnumpy()):\n",
    "        img = x[k].asnumpy().transpose((1, 2, 0))\n",
    "        img = img[:, :, (0, 0, 0)]\n",
    "        if count >= limit:\n",
    "            break\n",
    "        count += 1\n",
    "        # display results\n",
    "        plt.clf()\n",
    "        plt.imshow(img)\n",
    "        for det in out:\n",
    "            cid = int(det[0])\n",
    "            if cid < 0:\n",
    "                continue\n",
    "            score = det[1]\n",
    "            if score < thresh:\n",
    "                continue\n",
    "            if cid not in pens:\n",
    "                pens[cid] = (random.random(), random.random(), random.random())\n",
    "            xmin, ymin, xmax, ymax = [int(p * data_shape) for p in det[2:6]]\n",
    "            rect = plt.Rectangle((xmin, ymin), xmax - xmin, ymax - ymin, fill=False, \n",
    "                                 edgecolor=pens[cid], linewidth=3)\n",
    "            plt.gca().add_patch(rect)\n",
    "            text = class_names[cid]\n",
    "            plt.gca().text(xmin, ymin-2, '{:s} {:.3f}'.format(text, score),\n",
    "                           bbox=dict(facecolor=pens[cid], alpha=0.5),\n",
    "                           fontsize=12, color='white')\n",
    "            plt.show()\n",
    "                "
   ]
  },
  {
   "cell_type": "markdown",
   "metadata": {},
   "source": [
    "## Conclusion\n",
    "\n",
    "Detection is harder than classification, since we want not only class probabilities, but also localizations of different objects including potential small objects. Using sliding window together with a good classifier might be an option, however, we have shown that with a properly designed convolutional neural network, we can do single shot detection which is blazing fast and accurate! \n",
    "\n",
    "For whinges or inquiries, [open an issue on  GitHub.](https://github.com/zackchase/mxnet-the-straight-dope)"
   ]
  },
  {
   "cell_type": "code",
   "execution_count": null,
   "metadata": {
    "collapsed": true
   },
   "outputs": [],
   "source": []
  }
 ],
 "metadata": {
  "kernelspec": {
   "display_name": "Python 3",
   "language": "python",
   "name": "python3"
  },
  "language_info": {
   "codemirror_mode": {
    "name": "ipython",
    "version": 3
   },
   "file_extension": ".py",
   "mimetype": "text/x-python",
   "name": "python",
   "nbconvert_exporter": "python",
   "pygments_lexer": "ipython3",
   "version": "3.6.2"
  }
 },
 "nbformat": 4,
 "nbformat_minor": 2
}

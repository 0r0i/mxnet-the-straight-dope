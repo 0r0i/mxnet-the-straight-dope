{
 "cells": [
  {
   "cell_type": "markdown",
   "metadata": {},
   "source": [
    "# Object Detection Using Convolutional Neural Networks\n",
    "\n",
    "Object detection is a popular computer vision technology that deals with detecting instances of semantic objects (such as humans, animals, buildings and so on) in images or videos, which is a fundamental process to solve more advanced computer vision problems. \n",
    "\n",
    "We are going to present a minimal example using ``gluon`` to illustrate how Convolutional Neural Networks can learn to detect objects."
   ]
  },
  {
   "cell_type": "code",
   "execution_count": 1,
   "metadata": {
    "collapsed": true
   },
   "outputs": [],
   "source": [
    "from __future__ import print_function, division\n",
    "import mxnet as mx\n",
    "from mxnet import nd\n",
    "from mxnet import autograd as ag\n",
    "from mxnet import gluon\n",
    "from mxnet.gluon import nn\n",
    "from mxnet.contrib.ndarray import MultiBoxPrior, MultiBoxTarget, MultiBoxDetection\n",
    "import numpy as np\n",
    "import matplotlib.pyplot as plt\n",
    "import random\n",
    "import math\n",
    "import time"
   ]
  },
  {
   "cell_type": "markdown",
   "metadata": {
    "collapsed": true
   },
   "source": [
    "## Prepare data\n",
    "\n",
    "First of all, we need a toy dataset to play with. Tiny datasets for object detection are rare, however, we can create a dataset for detection task from MNIST!"
   ]
  },
  {
   "cell_type": "code",
   "execution_count": 2,
   "metadata": {},
   "outputs": [
    {
     "name": "stdout",
     "output_type": "stream",
     "text": [
      "Class names: ['0', '1', '2', '3', '4', '5', '6', '7', '8', '9']\n"
     ]
    }
   ],
   "source": [
    "mnist = mx.test_utils.get_mnist()\n",
    "batch_size = 64\n",
    "train_data = mx.io.NDArrayIter(mnist[\"train_data\"], mnist[\"train_label\"], batch_size, shuffle=True)\n",
    "test_data = mx.io.NDArrayIter(mnist[\"test_data\"], mnist[\"test_label\"], batch_size, shuffle=True)\n",
    "class_names = [str(x) for x in range(10)]\n",
    "num_class = 10\n",
    "print('Class names:', class_names)"
   ]
  },
  {
   "cell_type": "markdown",
   "metadata": {},
   "source": [
    "Now we grab one batch, and print it to see the internal array shapes"
   ]
  },
  {
   "cell_type": "code",
   "execution_count": 3,
   "metadata": {},
   "outputs": [
    {
     "name": "stdout",
     "output_type": "stream",
     "text": [
      "DataBatch: data shapes: [(64, 1, 28, 28)] label shapes: [(64,)]\n"
     ]
    }
   ],
   "source": [
    "train_data.reset()\n",
    "batch = train_data.next()\n",
    "print(batch)"
   ]
  },
  {
   "cell_type": "markdown",
   "metadata": {},
   "source": [
    "And we can display the sample image using `matplotlib`"
   ]
  },
  {
   "cell_type": "code",
   "execution_count": 4,
   "metadata": {},
   "outputs": [
    {
     "data": {
      "image/png": "[encoded data removed]",
      "text/plain": [
       "<matplotlib.figure.Figure at 0x10cc39e48>"
      ]
     },
     "metadata": {},
     "output_type": "display_data"
    }
   ],
   "source": [
    "demo = batch.data[0][0].asnumpy()  # grab the first image, convert to numpy array\n",
    "demo = demo.transpose((1, 2, 0))  # we want channel to be the last dimension\n",
    "plt.imshow(demo[:, :, (0, 0, 0)])  # convert to 3-channels and display\n",
    "plt.show()"
   ]
  },
  {
   "cell_type": "markdown",
   "metadata": {},
   "source": [
    "Clearly, the dataset is good for classification task, but we want a dataset for detection. Surely we can produce one by randomly distorting and placing the digits at different positions."
   ]
  },
  {
   "cell_type": "code",
   "execution_count": 5,
   "metadata": {
    "collapsed": true
   },
   "outputs": [],
   "source": [
    "# Make objects not too tricky, so we can save training time\n",
    "data_shape = 64  # we want a reasonable size as input shape\n",
    "max_ratio = 1.5  # digits not too wide or tall\n",
    "min_size = 0.4  # digits not too small\n",
    "def get_batch(batch):\n",
    "    batch_size = batch.data[0].shape[0]\n",
    "    data = mx.nd.zeros((batch_size, 1, data_shape, data_shape))\n",
    "    label = mx.nd.full((batch_size, 3, 5), -1)\n",
    "    for k in range(batch_size):\n",
    "        # generate random width/height for the digits\n",
    "        w = int(round(random.uniform(min_size, 1) * data_shape))\n",
    "        h = int(round(random.uniform(min_size, 1) * data_shape))\n",
    "        # regulate the shape\n",
    "        if float(w) / h > max_ratio:\n",
    "            w = int(round(h * max_ratio))\n",
    "        if float(h) / w > max_ratio:\n",
    "            h = int(round(w * max_ratio))\n",
    "        # resize the digit\n",
    "        orig = batch.data[0][k].reshape((28, 28, 1))\n",
    "        warped = mx.image.imresize(orig, w, h)\n",
    "        # randomize the new location\n",
    "        x0 = random.randint(0, data_shape - w)\n",
    "        y0 = random.randint(0, data_shape - h)\n",
    "        # copy warped digits to the canvas\n",
    "        data[k, 0, y0 : y0 + h, x0 : x0 + w] = warped.reshape((1, 1, h, w))\n",
    "        # the label is the new location and size of the digits, as [id, xmin, ymin, xmax, ymax]\n",
    "        cid = batch.label[0][k].asscalar()\n",
    "        xmin = x0 / data_shape\n",
    "        ymin = y0 / data_shape\n",
    "        xmax = (x0 + w) / data_shape\n",
    "        ymax = (y0 + h) / data_shape\n",
    "        det_label = mx.nd.array([cid, xmin, ymin, xmax, ymax])\n",
    "        label[k, 0, :] = det_label.reshape((1, 1, 5))\n",
    "    return mx.io.DataBatch(data=[data], label=[label], index=batch.index, pad=batch.pad)"
   ]
  },
  {
   "cell_type": "markdown",
   "metadata": {},
   "source": [
    "Now, with `get_batch` function, we are getting data for detection task!"
   ]
  },
  {
   "cell_type": "code",
   "execution_count": 6,
   "metadata": {},
   "outputs": [
    {
     "name": "stdout",
     "output_type": "stream",
     "text": [
      "label for detection: [ 8.        0.09375   0.234375  0.875     0.75    ]\n"
     ]
    },
    {
     "data": {
      "image/png": "[encoded data removed]",
      "text/plain": [
       "<matplotlib.figure.Figure at 0x10cc39a90>"
      ]
     },
     "metadata": {},
     "output_type": "display_data"
    }
   ],
   "source": [
    "det_batch = get_batch(batch)\n",
    "demo = det_batch.data[0][0].asnumpy()  # grab the first image, convert to numpy array\n",
    "demo = demo.transpose((1, 2, 0))  # we want channel to be the last dimension\n",
    "plt.imshow(demo[:, :, (0, 0, 0)])  # convert to 3-channels and display\n",
    "label = det_batch.label[0][0][0].asnumpy()\n",
    "print('label for detection:', label)\n",
    "xmin, ymin, xmax, ymax = [int(x * data_shape) for x in label[1:5]]\n",
    "rect = plt.Rectangle((xmin, ymin), xmax - xmin, ymax - ymin, fill=False, edgecolor=(1, 1, 1))\n",
    "plt.gca().add_patch(rect)\n",
    "plt.show()"
   ]
  },
  {
   "cell_type": "markdown",
   "metadata": {},
   "source": [
    "The white bounding box around digit is the desired detection box, namely, ground-truth."
   ]
  },
  {
   "cell_type": "markdown",
   "metadata": {},
   "source": [
    "## Detection network\n",
    "\n",
    "There are multiple convolutional neural network meta-structures specifically designed for object detection. In this section we use Single-Shot Detector (SSD) as an example, and illustrate how a general object detection training/test workflow looks like.\n",
    "\n",
    "### There are three key points making SSD network different from normal convolutional neural networks:\n",
    "\n",
    "Details available at https://arxiv.org/abs/1512.02325\n",
    "\n",
    "* Multi-scale feature maps for detection\n",
    "\n",
    "* Multiple anchors boxes with different scales and aspect ratios\n",
    "\n",
    "* Convolutional predictors\n",
    "\n",
    "### In summary, we need:\n",
    "* A backbone network producing feature maps in different sizes. We can achieve this by stacking `Conv-BatchNorm-Relu` layers followed by `MaxPooling` layer to reduce the feature map size by a factor of 2. For a 64x64 input image, this could produce feature maps with size 32x32, 16x16, 8x8, 4x4, 2x2, 1x1. \n",
    "\n",
    "* Anchor boxes generator. We want multiple anchors with different scales and aspect ratios, so that there always exist an anchor box highly overlaps with an object on image. In this tutorial, we are going to use the following parameters:\n",
    "\n",
    "    8x8 --> sizes [0.37, 0.447] --> ratios [1, 2, 0.5]\n",
    "\n",
    "    4x4 --> sizes [0.54, 0.619] --> ratios [1, 2, 0.5]\n",
    "\n",
    "    2x2 --> sizes [0.71, 0.79]  --> ratios [1, 2, 0.5]\n",
    "\n",
    "    1x1 --> sizes [0.88, 0.961] --> ratios [1, 2, 0.5]\n",
    "    \n",
    "    16x16 feature map might be good for smaller objects, but we skip it in this tutorial in trade of faster convergence.\n",
    "\n",
    "* 3x3 Convolutional layers are responsible for predict class probabilities, as well as the box deformation predictions. Each convolution channel is responsible for a certain (scale, ratio, feature map) combination.\n",
    "\n",
    "### Training target in one sentence\n",
    "![](https://user-images.githubusercontent.com/3307514/28603710-9e7d4d80-717a-11e7-95ed-dd08763fed87.png)\n",
    "\n",
    "Applying convolutional predictors to feature maps in a sliding window fashion (convolutional built-in characteristics), predicting whether the correspoding anchor is an object (and what class) or background, and how much deformation the corresponding anchor box should transform to cover the object.\n"
   ]
  },
  {
   "cell_type": "code",
   "execution_count": 7,
   "metadata": {
    "collapsed": true
   },
   "outputs": [],
   "source": [
    "class ToySSD(gluon.Block):\n",
    "    def __init__(self, num_class, **kwargs):\n",
    "        super(ToySSD, self).__init__(**kwargs)\n",
    "        # sizes control the scale of anchor boxes, with decreasing feature map size,\n",
    "        # the anchor boxes are expected to be larger in design\n",
    "        self.sizes = [[.37, .447], [.54, .619], [.71, .79], [.88, .961]]\n",
    "        # ratios control the aspect ratio of anchor boxes, here we use 1, 2, 0.5\n",
    "        self.ratios = [[1,2,.5], [1,2,.5], [1,2,.5], [1,2,.5]]\n",
    "        num_anchors = [len(x) + len(y) - 1 for x, y in zip(self.sizes, self.ratios)]\n",
    "        self.num_anchors = num_anchors\n",
    "        self.num_class = num_class\n",
    "        with self.name_scope():\n",
    "            # first build a body as feature\n",
    "            self.body = nn.HybridSequential()\n",
    "            # 64 x 64\n",
    "            # make basic block is a stack of sequential conv layers, followed by\n",
    "            # a pooling layer to reduce feature map size\n",
    "            self.body.add(self._make_basic_block(16))\n",
    "            # 32 x 32\n",
    "            self.body.add(self._make_basic_block(32))\n",
    "            # 16 x 16\n",
    "            self.body.add(self._make_basic_block(64))\n",
    "            # 8 x 8\n",
    "            # use cls1 conv layer to get the class predictions on 8x8 feature map\n",
    "            # use loc1 conv layer to get location offsets on 8x8 feature map\n",
    "            # use blk1 conv block to reduce the feature map size again\n",
    "            self.cls1 = nn.Conv2D(num_anchors[0] * (num_class + 1), 3, padding=1)\n",
    "            self.loc1 = nn.Conv2D(num_anchors[0] * 4, 3, padding=1)\n",
    "            self.blk1 = self._make_basic_block(64)\n",
    "            # 4 x 4\n",
    "            self.cls2 = nn.Conv2D(num_anchors[1] * (num_class + 1), 3, padding=1)\n",
    "            self.loc2 = nn.Conv2D(num_anchors[1] * 4, 3, padding=1)\n",
    "            self.blk2 = self._make_basic_block(64)\n",
    "            # 2 x 2\n",
    "            self.cls3 = nn.Conv2D(num_anchors[2] * (num_class + 1), 3, padding=1)\n",
    "            self.loc3 = nn.Conv2D(num_anchors[2] * 4, 3, padding=1)\n",
    "            # 1 x 1\n",
    "            self.cls4 = nn.Conv2D(num_anchors[3] * (num_class + 1), 3, padding=1)\n",
    "            self.loc4 = nn.Conv2D(num_anchors[3] * 4, 3, padding=1)\n",
    "\n",
    "    def _make_basic_block(self, num_filter):\n",
    "        \"\"\"Basic block is a stack of sequential convolution layers, followed by\n",
    "        a pooling layer to reduce feature map. \"\"\"\n",
    "        out = nn.HybridSequential()\n",
    "        out.add(nn.Conv2D(num_filter, 3, strides=1, padding=1))\n",
    "        out.add(nn.BatchNorm(in_channels=num_filter))\n",
    "        out.add(nn.Activation('relu'))\n",
    "        out.add(nn.Conv2D(num_filter, 3, strides=1, padding=1))\n",
    "        out.add(nn.BatchNorm(in_channels=num_filter))\n",
    "        out.add(nn.Activation('relu'))\n",
    "        out.add(nn.MaxPool2D())\n",
    "        return out\n",
    "\n",
    "    def forward(self, x):\n",
    "        anchors = []\n",
    "        loc_preds = []\n",
    "        cls_preds = []\n",
    "        x = self.body(x)\n",
    "        # 8 x 8, generate anchors, predict class and location offsets with conv layer\n",
    "        # transpose, reshape and append to list for further concatenation\n",
    "        anchors.append(MultiBoxPrior(x, sizes=self.sizes[0], ratios=self.ratios[0]))\n",
    "        loc_preds.append(nd.flatten(nd.transpose(self.loc1(x), axes=(0, 2, 3, 1))))\n",
    "        cls_preds.append(nd.flatten(nd.transpose(self.cls1(x), axes=(0, 2, 3, 1))))\n",
    "        x = self.blk1(x)\n",
    "        # 4 x 4\n",
    "        anchors.append(MultiBoxPrior(x, sizes=self.sizes[1], ratios=self.ratios[1]))\n",
    "        loc_preds.append(nd.flatten(nd.transpose(self.loc2(x), axes=(0, 2, 3, 1))))\n",
    "        cls_preds.append(nd.flatten(nd.transpose(self.cls2(x), axes=(0, 2, 3, 1))))\n",
    "        x = self.blk2(x)\n",
    "        # 2 x 2\n",
    "        anchors.append(MultiBoxPrior(x, sizes=self.sizes[2], ratios=self.ratios[2]))\n",
    "        loc_preds.append(nd.flatten(nd.transpose(self.loc3(x), axes=(0, 2, 3, 1))))\n",
    "        cls_preds.append(nd.flatten(nd.transpose(self.cls3(x), axes=(0, 2, 3, 1))))\n",
    "        # we use pooling directly here without convolution layers\n",
    "        x = nd.Pooling(x, global_pool=True, pool_type='max', kernel=(2, 2))\n",
    "        # 1 x 1\n",
    "        anchors.append(MultiBoxPrior(x, sizes=self.sizes[3], ratios=self.ratios[3]))\n",
    "        loc_preds.append(nd.flatten(nd.transpose(self.loc4(x), axes=(0, 2, 3, 1))))\n",
    "        cls_preds.append(nd.flatten(nd.transpose(self.cls4(x), axes=(0, 2, 3, 1))))\n",
    "        # concat multiple layers\n",
    "        anchors = nd.reshape(nd.concat(*anchors, dim=1), shape=(0, -1, 4))\n",
    "        loc_preds = nd.concat(*loc_preds, dim=1)\n",
    "        cls_preds = nd.reshape(nd.concat(*cls_preds, dim=1), (0, -1, self.num_class+1))\n",
    "        cls_preds = nd.transpose(cls_preds, axes=(0, 2, 1))\n",
    "        return [anchors, cls_preds, loc_preds]"
   ]
  },
  {
   "cell_type": "markdown",
   "metadata": {},
   "source": [
    "ToySSD network takes a batch of images `(64, 1, 64, 64)` as input, and will output three components:\n",
    "\n",
    "1. Concatenated anchors with shape `(1, 340, 4)` scattered around images with all kinds of scales and aspect ratios. The first dimension is 1, indicating all anchors are shared across batches, second is the number of anchors, the third dimension is for box coordinates (xmin, ymin, xmax, ymax)\n",
    "\n",
    "2. Concatenated class predictions with shape `(64, 11, 340)`, first dimension is the `batch_size`, second is per-class prediction for `(background, 0, 1, ..., 9)`, the last dimension is number of anchors.\n",
    "\n",
    "3. Concatenated location predictions with shape `(64, 340 * 4)`."
   ]
  },
  {
   "cell_type": "markdown",
   "metadata": {},
   "source": [
    "## Losses\n",
    "\n",
    "Two types of loss functions are involved here. \n",
    "* Cross-entropy loss is typical for softmax classification problems, which serves as classification loss for all anchor boxes. \n",
    "\n",
    "* L2Loss is used to penalize incorrect bounding box offsets. We can play with L1Loss, SmoothL1Loss as well."
   ]
  },
  {
   "cell_type": "code",
   "execution_count": 8,
   "metadata": {
    "collapsed": true
   },
   "outputs": [],
   "source": [
    "cls_loss = gluon.loss.SoftmaxCrossEntropyLoss()  # for softmax classification, typical for classification\n",
    "loc_loss = gluon.loss.L2Loss()  # typical for regression"
   ]
  },
  {
   "cell_type": "markdown",
   "metadata": {},
   "source": [
    "## Evaluate metrics\n",
    "\n",
    "Evalute metrics are for collectting training status, which has no effect on training itself."
   ]
  },
  {
   "cell_type": "code",
   "execution_count": 9,
   "metadata": {
    "collapsed": true
   },
   "outputs": [],
   "source": [
    "cls_metric = mx.metric.Accuracy()\n",
    "loc_metric = mx.metric.MAE()"
   ]
  },
  {
   "cell_type": "markdown",
   "metadata": {},
   "source": [
    "## Create network"
   ]
  },
  {
   "cell_type": "code",
   "execution_count": 10,
   "metadata": {},
   "outputs": [],
   "source": [
    "net = ToySSD(num_class)  # create a net to predict 10-class digits"
   ]
  },
  {
   "cell_type": "markdown",
   "metadata": {},
   "source": [
    "## Set the context"
   ]
  },
  {
   "cell_type": "code",
   "execution_count": 11,
   "metadata": {},
   "outputs": [
    {
     "name": "stdout",
     "output_type": "stream",
     "text": [
      "No GPU enabled, fall back to CPU, which will be slow...\n"
     ]
    }
   ],
   "source": [
    "ctx = [mx.gpu()]  # it takes too long to train using CPU\n",
    "try:\n",
    "    _ = nd.zeros(1, ctx=ctx)\n",
    "except mx.base.MXNetError as err:\n",
    "    print('No GPU enabled, fall back to CPU, which will be slow...')\n",
    "    ctx = [mx.cpu()]"
   ]
  },
  {
   "cell_type": "markdown",
   "metadata": {},
   "source": [
    "## Initalize parameters"
   ]
  },
  {
   "cell_type": "code",
   "execution_count": 12,
   "metadata": {},
   "outputs": [],
   "source": [
    "net.collect_params().initialize(mx.init.Xavier(magnitude=2.34), ctx=ctx)"
   ]
  },
  {
   "cell_type": "markdown",
   "metadata": {},
   "source": [
    "## Trainer"
   ]
  },
  {
   "cell_type": "code",
   "execution_count": 13,
   "metadata": {
    "collapsed": true
   },
   "outputs": [],
   "source": [
    "trainer = gluon.Trainer(net.collect_params(), 'sgd', {'learning_rate': 0.1})"
   ]
  },
  {
   "cell_type": "markdown",
   "metadata": {},
   "source": [
    "## Start training"
   ]
  },
  {
   "cell_type": "code",
   "execution_count": 17,
   "metadata": {},
   "outputs": [
    {
     "name": "stdout",
     "output_type": "stream",
     "text": [
      "[Epoch 0 Batch 0] speed: 66.896468 samples/s, training: accuracy=0.989200, mae=0.009228\n"
     ]
    },
    {
     "ename": "KeyboardInterrupt",
     "evalue": "",
     "output_type": "error",
     "traceback": [
      "\u001b[0;31m---------------------------------------------------------------------------\u001b[0m",
      "\u001b[0;31mKeyboardInterrupt\u001b[0m                         Traceback (most recent call last)",
      "\u001b[0;32m<ipython-input-17-b648f524ccdd>\u001b[0m in \u001b[0;36m<module>\u001b[0;34m()\u001b[0m\n\u001b[1;32m     30\u001b[0m         \u001b[0mtrainer\u001b[0m\u001b[0;34m.\u001b[0m\u001b[0mstep\u001b[0m\u001b[0;34m(\u001b[0m\u001b[0mbatch_size\u001b[0m\u001b[0;34m)\u001b[0m\u001b[0;34m\u001b[0m\u001b[0m\n\u001b[1;32m     31\u001b[0m         \u001b[0;31m# update metrics\u001b[0m\u001b[0;34m\u001b[0m\u001b[0;34m\u001b[0m\u001b[0m\n\u001b[0;32m---> 32\u001b[0;31m         \u001b[0mcls_metric\u001b[0m\u001b[0;34m.\u001b[0m\u001b[0mupdate\u001b[0m\u001b[0;34m(\u001b[0m\u001b[0;34m[\u001b[0m\u001b[0mcls_target\u001b[0m\u001b[0;34m]\u001b[0m\u001b[0;34m,\u001b[0m \u001b[0;34m[\u001b[0m\u001b[0mcls_preds\u001b[0m\u001b[0;34m]\u001b[0m\u001b[0;34m)\u001b[0m\u001b[0;34m\u001b[0m\u001b[0m\n\u001b[0m\u001b[1;32m     33\u001b[0m         \u001b[0mloc_metric\u001b[0m\u001b[0;34m.\u001b[0m\u001b[0mupdate\u001b[0m\u001b[0;34m(\u001b[0m\u001b[0;34m[\u001b[0m\u001b[0mloc_target\u001b[0m\u001b[0;34m]\u001b[0m\u001b[0;34m,\u001b[0m \u001b[0;34m[\u001b[0m\u001b[0mloc_preds\u001b[0m \u001b[0;34m*\u001b[0m \u001b[0mloc_mask\u001b[0m\u001b[0;34m]\u001b[0m\u001b[0;34m)\u001b[0m\u001b[0;34m\u001b[0m\u001b[0m\n\u001b[1;32m     34\u001b[0m         \u001b[0;32mif\u001b[0m \u001b[0mi\u001b[0m \u001b[0;34m%\u001b[0m \u001b[0mlog_interval\u001b[0m \u001b[0;34m==\u001b[0m \u001b[0;36m0\u001b[0m\u001b[0;34m:\u001b[0m\u001b[0;34m\u001b[0m\u001b[0m\n",
      "\u001b[0;32m~/Dev/mxnet-dev/mxnet/python/mxnet/metric.py\u001b[0m in \u001b[0;36mupdate\u001b[0;34m(self, labels, preds)\u001b[0m\n\u001b[1;32m    374\u001b[0m             \u001b[0;32mif\u001b[0m \u001b[0mpred_label\u001b[0m\u001b[0;34m.\u001b[0m\u001b[0mshape\u001b[0m \u001b[0;34m!=\u001b[0m \u001b[0mlabel\u001b[0m\u001b[0;34m.\u001b[0m\u001b[0mshape\u001b[0m\u001b[0;34m:\u001b[0m\u001b[0;34m\u001b[0m\u001b[0m\n\u001b[1;32m    375\u001b[0m                 \u001b[0mpred_label\u001b[0m \u001b[0;34m=\u001b[0m \u001b[0mndarray\u001b[0m\u001b[0;34m.\u001b[0m\u001b[0margmax\u001b[0m\u001b[0;34m(\u001b[0m\u001b[0mpred_label\u001b[0m\u001b[0;34m,\u001b[0m \u001b[0maxis\u001b[0m\u001b[0;34m=\u001b[0m\u001b[0mself\u001b[0m\u001b[0;34m.\u001b[0m\u001b[0maxis\u001b[0m\u001b[0;34m)\u001b[0m\u001b[0;34m\u001b[0m\u001b[0m\n\u001b[0;32m--> 376\u001b[0;31m             \u001b[0mpred_label\u001b[0m \u001b[0;34m=\u001b[0m \u001b[0mpred_label\u001b[0m\u001b[0;34m.\u001b[0m\u001b[0masnumpy\u001b[0m\u001b[0;34m(\u001b[0m\u001b[0;34m)\u001b[0m\u001b[0;34m.\u001b[0m\u001b[0mastype\u001b[0m\u001b[0;34m(\u001b[0m\u001b[0;34m'int32'\u001b[0m\u001b[0;34m)\u001b[0m\u001b[0;34m\u001b[0m\u001b[0m\n\u001b[0m\u001b[1;32m    377\u001b[0m             \u001b[0mlabel\u001b[0m \u001b[0;34m=\u001b[0m \u001b[0mlabel\u001b[0m\u001b[0;34m.\u001b[0m\u001b[0masnumpy\u001b[0m\u001b[0;34m(\u001b[0m\u001b[0;34m)\u001b[0m\u001b[0;34m.\u001b[0m\u001b[0mastype\u001b[0m\u001b[0;34m(\u001b[0m\u001b[0;34m'int32'\u001b[0m\u001b[0;34m)\u001b[0m\u001b[0;34m\u001b[0m\u001b[0m\n\u001b[1;32m    378\u001b[0m \u001b[0;34m\u001b[0m\u001b[0m\n",
      "\u001b[0;32m~/Dev/mxnet-dev/mxnet/python/mxnet/ndarray.py\u001b[0m in \u001b[0;36masnumpy\u001b[0;34m(self)\u001b[0m\n\u001b[1;32m    863\u001b[0m             \u001b[0mself\u001b[0m\u001b[0;34m.\u001b[0m\u001b[0mhandle\u001b[0m\u001b[0;34m,\u001b[0m\u001b[0;34m\u001b[0m\u001b[0m\n\u001b[1;32m    864\u001b[0m             \u001b[0mdata\u001b[0m\u001b[0;34m.\u001b[0m\u001b[0mctypes\u001b[0m\u001b[0;34m.\u001b[0m\u001b[0mdata_as\u001b[0m\u001b[0;34m(\u001b[0m\u001b[0mctypes\u001b[0m\u001b[0;34m.\u001b[0m\u001b[0mc_void_p\u001b[0m\u001b[0;34m)\u001b[0m\u001b[0;34m,\u001b[0m\u001b[0;34m\u001b[0m\u001b[0m\n\u001b[0;32m--> 865\u001b[0;31m             ctypes.c_size_t(data.size)))\n\u001b[0m\u001b[1;32m    866\u001b[0m         \u001b[0;32mreturn\u001b[0m \u001b[0mdata\u001b[0m\u001b[0;34m\u001b[0m\u001b[0m\n\u001b[1;32m    867\u001b[0m \u001b[0;34m\u001b[0m\u001b[0m\n",
      "\u001b[0;31mKeyboardInterrupt\u001b[0m: "
     ]
    }
   ],
   "source": [
    "epochs = 8  # set larger to get better performance\n",
    "log_interval = 100\n",
    "for epoch in range(epochs):\n",
    "    # reset iterator and tick\n",
    "    train_data.reset()\n",
    "    cls_metric.reset()\n",
    "    loc_metric.reset()\n",
    "    tic = time.time()\n",
    "    # iterate through all batch\n",
    "    for i, batch in enumerate(train_data):\n",
    "        btic = time.time()\n",
    "        det_batch = get_batch(batch)\n",
    "        # record gradients\n",
    "        with ag.record():\n",
    "            x = det_batch.data[0]\n",
    "            y = det_batch.label[0]\n",
    "            anchors, cls_preds, loc_preds = net(x)\n",
    "            z = MultiBoxTarget(*[anchors, y, cls_preds])\n",
    "            loc_target = z[0]  # loc offset target for (x, y, width, height)\n",
    "            loc_mask = z[1]  # mask is used to ignore predictions we don't want to penalize\n",
    "            cls_target = z[2]  # cls_target is an array of labels for all anchors boxes\n",
    "            # losses\n",
    "            loss1 = cls_loss(nd.transpose(cls_preds, (0, 2, 1)), cls_target)\n",
    "            loss2 = loc_loss(loc_preds * loc_mask, loc_target)\n",
    "            # sum all losses\n",
    "            loss = loss1 + loss2\n",
    "            # backpropagate\n",
    "            loss.backward()\n",
    "        # apply optimizer\n",
    "        trainer.step(batch_size)\n",
    "        # update metrics\n",
    "        cls_metric.update([cls_target], [cls_preds])\n",
    "        loc_metric.update([loc_target], [loc_preds * loc_mask])\n",
    "        if i % log_interval == 0:\n",
    "            name1, val1 = cls_metric.get()\n",
    "            name2, val2 = loc_metric.get()\n",
    "            print('[Epoch %d Batch %d] speed: %f samples/s, training: %s=%f, %s=%f' \n",
    "                  %(epoch ,i, batch_size/(time.time()-btic), name1, val1, name2, val2))\n",
    "    \n",
    "    # end of epoch logging\n",
    "    name1, val1 = cls_metric.get()\n",
    "    name2, val2 = loc_metric.get()\n",
    "    print('[Epoch %d] training: %s=%f, %s=%f'%(epoch, name1, val1, name2, val2))\n",
    "    print('[Epoch %d] time cost: %f'%(epoch, time.time()-tic))\n",
    "    \n",
    "# we can save the trained parameters to disk\n",
    "# net.collect_params().save('ssd_%d.params' % epochs)"
   ]
  },
  {
   "cell_type": "markdown",
   "metadata": {},
   "source": [
    "## Display results"
   ]
  },
  {
   "cell_type": "code",
   "execution_count": 18,
   "metadata": {},
   "outputs": [
    {
     "data": {
      "image/png": "[encoded data removed]",
      "text/plain": [
       "<matplotlib.figure.Figure at 0x114ef45f8>"
      ]
     },
     "metadata": {},
     "output_type": "display_data"
    },
    {
     "data": {
      "image/png": "[encoded data removed]",
      "text/plain": [
       "<matplotlib.figure.Figure at 0x114ed5a20>"
      ]
     },
     "metadata": {},
     "output_type": "display_data"
    },
    {
     "data": {
      "image/png": "[encoded data removed]",
      "text/plain": [
       "<matplotlib.figure.Figure at 0x1128cb0b8>"
      ]
     },
     "metadata": {},
     "output_type": "display_data"
    },
    {
     "data": {
      "image/png": "[encoded data removed]",
      "text/plain": [
       "<matplotlib.figure.Figure at 0x114e975f8>"
      ]
     },
     "metadata": {},
     "output_type": "display_data"
    },
    {
     "data": {
      "image/png": "[encoded data removed]",
      "text/plain": [
       "<matplotlib.figure.Figure at 0x112f3cc88>"
      ]
     },
     "metadata": {},
     "output_type": "display_data"
    }
   ],
   "source": [
    "# if pre-trained model is provided, we can load it\n",
    "# net.collect_params().load('ssd_%d.params' % epochs, ctx)\n",
    "test_data.reset()\n",
    "count = 0\n",
    "limit = 5\n",
    "pens = dict()\n",
    "thresh = 0.1\n",
    "while count < limit:\n",
    "    x = get_batch(test_data.next()).data[0]\n",
    "    # network inference\n",
    "    anchors, cls_preds, loc_preds = net(x)\n",
    "    # convert predictions to probabilities\n",
    "    cls_probs = nd.SoftmaxActivation(cls_preds, mode='channel')\n",
    "    # apply shifts to anchors boxes, non-maximum-suppression, etc...\n",
    "    output = MultiBoxDetection(*[cls_probs, loc_preds, anchors], force_suppress=True, clip=True)\n",
    "    for k, out in enumerate(output.asnumpy()):\n",
    "        img = x[k].asnumpy().transpose((1, 2, 0))\n",
    "        img = img[:, :, (0, 0, 0)]\n",
    "        if count >= limit:\n",
    "            break\n",
    "        count += 1\n",
    "        # display results\n",
    "        plt.clf()\n",
    "        plt.imshow(img)\n",
    "        for det in out:\n",
    "            cid = int(det[0])\n",
    "            if cid < 0:\n",
    "                continue\n",
    "            score = det[1]\n",
    "            if score < thresh:\n",
    "                continue\n",
    "            if cid not in pens:\n",
    "                pens[cid] = (random.random(), random.random(), random.random())\n",
    "            xmin, ymin, xmax, ymax = [int(p * data_shape) for p in det[2:6]]\n",
    "            rect = plt.Rectangle((xmin, ymin), xmax - xmin, ymax - ymin, fill=False, \n",
    "                                 edgecolor=pens[cid], linewidth=3)\n",
    "            plt.gca().add_patch(rect)\n",
    "            text = class_names[cid]\n",
    "            plt.gca().text(xmin, ymin-2, '{:s} {:.3f}'.format(text, score),\n",
    "                           bbox=dict(facecolor=pens[cid], alpha=0.5),\n",
    "                           fontsize=12, color='white')\n",
    "            plt.show()\n",
    "                "
   ]
  },
  {
   "cell_type": "markdown",
   "metadata": {},
   "source": [
    "## Conclusion\n",
    "\n",
    "Detection is harder than classification, since we want not only class probabilities, but also localizations of different objects including potential small objects. Using sliding window together with a good classifier might be an option, however, we have shown that with a properly designed convolutional neural network, we can do single shot detection which is blazing fast and accurate! \n",
    "\n",
    "For whinges or inquiries, [open an issue on  GitHub.](https://github.com/zackchase/mxnet-the-straight-dope)"
   ]
  },
  {
   "cell_type": "code",
   "execution_count": null,
   "metadata": {
    "collapsed": true
   },
   "outputs": [],
   "source": []
  }
 ],
 "metadata": {
  "kernelspec": {
   "display_name": "Python 3",
   "language": "python",
   "name": "python3"
  },
  "language_info": {
   "codemirror_mode": {
    "name": "ipython",
    "version": 3
   },
   "file_extension": ".py",
   "mimetype": "text/x-python",
   "name": "python",
   "nbconvert_exporter": "python",
   "pygments_lexer": "ipython3",
   "version": "3.6.2"
  }
 },
 "nbformat": 4,
 "nbformat_minor": 2
}

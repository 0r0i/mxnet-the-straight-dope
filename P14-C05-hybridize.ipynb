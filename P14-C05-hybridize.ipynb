{
 "cells": [
  {
   "cell_type": "markdown",
   "metadata": {},
   "source": [
    "# Faster, and portable through hybridizing\n",
    "\n",
    "The tutorials we saw so far adopt the *imperative*, or define-by-run, programming paradigm. This is the way how we write Python programs. Another commonly used programming paradigm by deep learning frameworks is the *symbolic*, or define-then-run, programming. It consists of three steps\n",
    "\n",
    "- define the workloads, such as creating the neural network\n",
    "- compile the program into a front-end language, e.g. Python, independent format\n",
    "- feed with data to run\n",
    "\n",
    "This compilation step may optimize the program to be more efficient to run, and also the resulted language independent format make the program portable to various front-end languages. \n",
    "\n",
    "`gluon` provides a *hybrid* mechanism to seamless combine both declarative programming and imperative programming. Users can freely switch between them to enjoy the advantages of both paradigms. \n",
    "\n",
    "## HybridSequential\n",
    "\n",
    "We already learned how to use `Sequential` to stack the layers, there is `HybridSequential` that construct a hybrid network. Its usage is similar to `Sequential`:"
   ]
  },
  {
   "cell_type": "code",
   "execution_count": 1,
   "metadata": {
    "collapsed": false,
    "scrolled": true
   },
   "outputs": [
    {
     "name": "stdout",
     "output_type": "stream",
     "text": [
      "=== net(x) ===\n",
      "[[ 0.09178199 -0.01948221]]\n",
      "<NDArray 1x2 @cpu(0)>\n"
     ]
    }
   ],
   "source": [
    "from mxnet.gluon import nn\n",
    "from mxnet import nd\n",
    "\n",
    "def get_net():\n",
    "    # construct a MLP\n",
    "    net = nn.HybridSequential()\n",
    "    with net.name_scope():\n",
    "        net.add(nn.Dense(256, activation=\"relu\"))\n",
    "        net.add(nn.Dense(128, activation=\"relu\"))\n",
    "        net.add(nn.Dense(2))\n",
    "    # initialize the parameters\n",
    "    net.collect_params().initialize()\n",
    "    return net\n",
    "\n",
    "# forward\n",
    "x = nd.random_normal(shape=(1, 512))\n",
    "net = get_net()\n",
    "print('=== net(x) ==={}'.format(net(x)))"
   ]
  },
  {
   "cell_type": "markdown",
   "metadata": {},
   "source": [
    "The network constructed by `HybridSequential` can be called `hybridize` to hint `gluon` to compile it through the symbolic way. "
   ]
  },
  {
   "cell_type": "code",
   "execution_count": 2,
   "metadata": {
    "collapsed": false,
    "scrolled": true
   },
   "outputs": [
    {
     "name": "stdout",
     "output_type": "stream",
     "text": [
      "=== net(x) ===\n",
      "[[ 0.09178199 -0.01948221]]\n",
      "<NDArray 1x2 @cpu(0)>\n"
     ]
    }
   ],
   "source": [
    "net.hybridize()\n",
    "print('=== net(x) ==={}'.format(net(x)))"
   ]
  },
  {
   "cell_type": "markdown",
   "metadata": {},
   "source": [
    "## Performance\n",
    "\n",
    "We compare the performance between before hybridizing and after hybridizing by forwarding 1000 times."
   ]
  },
  {
   "cell_type": "code",
   "execution_count": 3,
   "metadata": {
    "collapsed": false
   },
   "outputs": [
    {
     "name": "stdout",
     "output_type": "stream",
     "text": [
      "Before hybridizing: 0.8890 sec\n",
      "After hybridizing: 0.4335 sec\n"
     ]
    }
   ],
   "source": [
    "from time import time\n",
    "def bench(net, x):\n",
    "    start = time()\n",
    "    for i in range(1000):\n",
    "        y = net(x)\n",
    "    y.wait_to_read()\n",
    "    return time() - start\n",
    "        \n",
    "net = get_net()\n",
    "print('Before hybridizing: %.4f sec'%(bench(net, x)))\n",
    "net.hybridize()\n",
    "print('After hybridizing: %.4f sec'%(bench(net, x)))"
   ]
  },
  {
   "cell_type": "markdown",
   "metadata": {},
   "source": [
    "As can been seen, there is a significant speedup after hybridizing.\n",
    "\n",
    "## Get the symbolic program\n",
    "\n",
    "Previous we feed `net` with data `x`, then `net(x)` returns the forward results. Now if we feed it with a symbolic data placeholder, then the according symbolic program will be returned. "
   ]
  },
  {
   "cell_type": "code",
   "execution_count": 4,
   "metadata": {
    "collapsed": false,
    "scrolled": true
   },
   "outputs": [
    {
     "name": "stdout",
     "output_type": "stream",
     "text": [
      "=== input data holder ===\n",
      "<Symbol data>\n",
      "\n",
      "=== the symbolic program of net===\n",
      "<Symbol fullyconnected14>\n",
      "\n",
      "=== the according json definition===\n",
      "{\n",
      "  \"nodes\": [\n",
      "    {\n",
      "      \"op\": \"null\", \n",
      "      \"name\": \"data\", \n",
      "      \"inputs\": []\n",
      "    }, \n",
      "    {\n",
      "      \"op\": \"null\", \n",
      "      \"name\": \"hybridsequential1_dense0_weight\", \n",
      "      \"attr\": {\n",
      "        \"__dtyp\n"
     ]
    }
   ],
   "source": [
    "from mxnet import sym\n",
    "x = sym.var('data')\n",
    "print('=== input data holder ===')\n",
    "print(x)\n",
    "\n",
    "y = net(x)\n",
    "print('\\n=== the symbolic program of net===')\n",
    "print(y)\n",
    "\n",
    "y_json = y.tojson()\n",
    "print('\\n=== the according json definition===')\n",
    "print(y_json[0:200])"
   ]
  },
  {
   "cell_type": "markdown",
   "metadata": {},
   "source": [
    "Now we can save both the program and parameters into disk, so that it can be loaded later not only on Python, but all other supported languages, such as C++, R, and Scalar, as well."
   ]
  },
  {
   "cell_type": "code",
   "execution_count": 5,
   "metadata": {
    "collapsed": false
   },
   "outputs": [],
   "source": [
    "y.save('model.json')\n",
    "net.collect_params().save('model.params')"
   ]
  },
  {
   "cell_type": "markdown",
   "metadata": {},
   "source": [
    "## HybridBlock\n",
    "\n",
    "Now let dive deeper into how `hybridize` works. Remember that another way to construct a network is define a subclass of `gluon.Block`, by it we can flexibly write the forward function. \n",
    "\n",
    "Not surprise there a hybridized version `HybridBlock`. We implement the previous MLP: "
   ]
  },
  {
   "cell_type": "code",
   "execution_count": 6,
   "metadata": {
    "collapsed": true
   },
   "outputs": [],
   "source": [
    "from mxnet import gluon\n",
    "\n",
    "class Net(gluon.HybridBlock):\n",
    "    def __init__(self, **kwargs):\n",
    "        super(Net, self).__init__(**kwargs)\n",
    "        with self.name_scope():\n",
    "            self.fc1 = nn.Dense(256)\n",
    "            self.fc2 = nn.Dense(128)\n",
    "            self.fc3 = nn.Dense(2)\n",
    "\n",
    "    def hybrid_forward(self, F, x):\n",
    "        # F is a function space that depends on the type of x\n",
    "        # If x's type is NDArray, then F will be mxnet.nd\n",
    "        # If x's type is Symbol, then F will be mxnet.sym\n",
    "        print('type(x): {}, F: {}'.format(\n",
    "                type(x).__name__, F.__name__))\n",
    "        x = F.relu(self.fc1(x))\n",
    "        x = F.relu(self.fc2(x))\n",
    "        return self.fc3(x)"
   ]
  },
  {
   "cell_type": "markdown",
   "metadata": {},
   "source": [
    "Now we feed data into the network, we can see that `hybrid_forward` is called twice."
   ]
  },
  {
   "cell_type": "code",
   "execution_count": 7,
   "metadata": {
    "collapsed": false
   },
   "outputs": [
    {
     "name": "stdout",
     "output_type": "stream",
     "text": [
      "=== 1st forward ===\n",
      "type(x): NDArray, F: mxnet.ndarray\n",
      "=== 2nd forward ===\n",
      "type(x): NDArray, F: mxnet.ndarray\n"
     ]
    }
   ],
   "source": [
    "net = Net()\n",
    "net.collect_params().initialize()\n",
    "x = nd.random_normal(shape=(1, 512))\n",
    "print('=== 1st forward ===')\n",
    "y = net(x)\n",
    "print('=== 2nd forward ===')\n",
    "y = net(x)"
   ]
  },
  {
   "cell_type": "markdown",
   "metadata": {},
   "source": [
    "Now run it again after hybridizing. "
   ]
  },
  {
   "cell_type": "code",
   "execution_count": 8,
   "metadata": {
    "collapsed": false
   },
   "outputs": [
    {
     "name": "stdout",
     "output_type": "stream",
     "text": [
      "=== 1st forward ===\n",
      "type(x): Symbol, F: mxnet.symbol\n",
      "=== 2nd forward ===\n"
     ]
    }
   ],
   "source": [
    "net.hybridize()\n",
    "print('=== 1st forward ===')\n",
    "y = net(x)\n",
    "print('=== 2nd forward ===')\n",
    "y = net(x)"
   ]
  },
  {
   "cell_type": "markdown",
   "metadata": {},
   "source": [
    "It differs to the previous execution in two aspects:\n",
    "\n",
    "1. the input data type now is `Symbol` even that we feed a `NDArray` into    `net`. `gluon` implicitly constructed a symbolic data placeholder.\n",
    "2. `hybrid_forward` is called once at the first time we run `net(x)`. It is because `gluon` will construct the symbolic program on the first forward, and then keep reuse it later.\n",
    "\n",
    "One main reason that the network is faster after hybridizing is because we don't need to repeatedly evoke the Python forward function, while keep all computations within the highly efficient C++ backend engine.\n",
    "\n",
    "But the potential drawback is the losing of flexibility to write the forward function. In other ways, inserting `print` for debugging or control logics such as `if` and `for` into the forward function is useless now.\n",
    "\n",
    "## Conclusion\n",
    "\n",
    "Through `HybridSequental` and `HybridBlock`, we can convert an imperative program into symbolic by calling `hybridize`. "
   ]
  },
  {
   "cell_type": "code",
   "execution_count": null,
   "metadata": {
    "collapsed": true
   },
   "outputs": [],
   "source": []
  }
 ],
 "metadata": {
  "anaconda-cloud": {},
  "display_name": "",
  "kernelspec": {
   "display_name": "Python [default]",
   "language": "python",
   "name": "python3"
  },
  "language_info": {
   "codemirror_mode": {
    "name": "ipython",
    "version": 3
   },
   "file_extension": ".py",
   "mimetype": "text/x-python",
   "name": "python",
   "nbconvert_exporter": "python",
   "pygments_lexer": "ipython3",
   "version": "3.5.2"
  },
  "name": ""
 },
 "nbformat": 4,
 "nbformat_minor": 2
}

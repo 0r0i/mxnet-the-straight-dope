{
 "cells": [
  {
   "cell_type": "markdown",
   "metadata": {},
   "source": [
    "#  Gated recurrent unit (GRU) RNNs\n",
    "\n",
    "This chapter requires some exposition. The GRU updates are fully implemented and the code appears to work properly."
   ]
  },
  {
   "cell_type": "code",
   "execution_count": 18,
   "metadata": {
    "collapsed": true
   },
   "outputs": [],
   "source": [
    "from __future__ import print_function\n",
    "import mxnet as mx\n",
    "from mxnet import nd, autograd\n",
    "import numpy as np\n",
    "mx.random.seed(1)\n",
    "ctx = mx.gpu(0)"
   ]
  },
  {
   "cell_type": "markdown",
   "metadata": {},
   "source": [
    "## Dataset: \"The Time Machine\" "
   ]
  },
  {
   "cell_type": "code",
   "execution_count": 19,
   "metadata": {
    "collapsed": true
   },
   "outputs": [],
   "source": [
    "with open(\"data/nlp/timemachine.txt\") as f:\n",
    "    time_machine = f.read()\n",
    "time_machine = time_machine[:-38083]"
   ]
  },
  {
   "cell_type": "markdown",
   "metadata": {},
   "source": [
    "## Numerical representations of characters"
   ]
  },
  {
   "cell_type": "code",
   "execution_count": 4,
   "metadata": {
    "collapsed": true
   },
   "outputs": [],
   "source": [
    "character_list = list(set(time_machine))\n",
    "vocab_size = len(character_list)\n",
    "character_dict = {}\n",
    "for e, char in enumerate(character_list):\n",
    "    character_dict[char] = e\n",
    "time_numerical = [character_dict[char] for char in time_machine]"
   ]
  },
  {
   "cell_type": "markdown",
   "metadata": {},
   "source": [
    "## One-hot representations"
   ]
  },
  {
   "cell_type": "code",
   "execution_count": 5,
   "metadata": {
    "collapsed": true
   },
   "outputs": [],
   "source": [
    "def one_hots(numerical_list, vocab_size=vocab_size):\n",
    "    result = []\n",
    "    for idx in numerical_list:\n",
    "        array = nd.zeros(shape=(1, vocab_size), ctx=ctx)\n",
    "        array[0, idx] = 1.0\n",
    "        result.append(array)\n",
    "    return result"
   ]
  },
  {
   "cell_type": "code",
   "execution_count": 6,
   "metadata": {
    "collapsed": true
   },
   "outputs": [],
   "source": [
    "def textify(vector_list):\n",
    "    result = \"\"\n",
    "    for vector in vector_list:\n",
    "        vector = vector[0]\n",
    "        result += character_list[int(nd.argmax(vector, axis=0).asscalar())]\n",
    "    return result"
   ]
  },
  {
   "cell_type": "markdown",
   "metadata": {},
   "source": [
    "## Preparing the data for training"
   ]
  },
  {
   "cell_type": "code",
   "execution_count": 7,
   "metadata": {
    "collapsed": true
   },
   "outputs": [],
   "source": [
    "seq_length = 64\n",
    "dataset = [one_hots(time_numerical[i*seq_length:(i+1)*seq_length]) for i in range(int(np.floor((len(time_numerical)-1)/seq_length)))]\n",
    "batch_size = 32\n",
    "sequences_per_batch_row = int(np.floor(len(dataset))/batch_size)\n",
    "data_rows = [dataset[i*sequences_per_batch_row:i*sequences_per_batch_row+sequences_per_batch_row] \n",
    "            for i in range(batch_size)]"
   ]
  },
  {
   "cell_type": "code",
   "execution_count": 8,
   "metadata": {
    "collapsed": true
   },
   "outputs": [],
   "source": [
    "def stack_the_datasets(datasets):\n",
    "    full_dataset = []\n",
    "    # iterate over the sequences\n",
    "    for s in range(len(datasets[0])):\n",
    "        sequence = []\n",
    "        # iterate over the elements of the seqeunce\n",
    "        for elem in range(len(datasets[0][0])):\n",
    "            sequence.append(nd.concatenate([ds[s][elem].reshape((1,-1)) for ds in datasets], axis=0))\n",
    "        full_dataset.append(sequence)\n",
    "    return(full_dataset)     "
   ]
  },
  {
   "cell_type": "code",
   "execution_count": 9,
   "metadata": {
    "collapsed": true
   },
   "outputs": [],
   "source": [
    "training_data = stack_the_datasets(data_rows)"
   ]
  },
  {
   "cell_type": "markdown",
   "metadata": {},
   "source": [
    "## Preparing our labels"
   ]
  },
  {
   "cell_type": "code",
   "execution_count": 10,
   "metadata": {
    "collapsed": true
   },
   "outputs": [],
   "source": [
    "labels = [one_hots(time_numerical[i*seq_length+1:(i+1)*seq_length+1]) for i in range(int(np.floor((len(time_numerical)-1)/seq_length)))]\n",
    "label_rows = [labels[i*sequences_per_batch_row:i*sequences_per_batch_row+sequences_per_batch_row] for i in range(batch_size)]\n",
    "training_labels = stack_the_datasets(label_rows)"
   ]
  },
  {
   "cell_type": "markdown",
   "metadata": {},
   "source": [
    "## Long short-term memory (LSTM) RNNs\n",
    "\n",
    "[Placeholder for explanation]\n",
    "\n",
    "$$z_t = \\sigma(X_t W_{xz} + h_{t-1} W_{hz} + b_z)$$\n",
    "$$r_t = \\sigma(X_t W_{xr} + h_{t-1} W_{hr} + b_r $$\n",
    "$$ h_t = z_t \\odot h_{t-1} + (1-z_t) \\odot \\text{tanh}(X_t W_{xh} + r_t \\odot h_{t-1})W_{hh} + b_h )$$\n",
    "\n",
    "<!--\n",
    "$$i_t = \\sigma(X_t W_{xi} + b_i)$$\n",
    "$$f_t = \\sigma(X_t W_{xf} + b_f)$$\n",
    "$$o_t = \\sigma(X_t W_{xo} + b_o)$$\n",
    "$$c_t = f \\odot c_{t-1} + g_t \\odot i_t$$\n",
    "$$h_t = \\text{tanh}(c_t) \\odot o_t $$ \n",
    "-->"
   ]
  },
  {
   "cell_type": "markdown",
   "metadata": {},
   "source": [
    "## Allocate parameters"
   ]
  },
  {
   "cell_type": "code",
   "execution_count": 20,
   "metadata": {},
   "outputs": [],
   "source": [
    "num_inputs = 77\n",
    "num_hidden = 256\n",
    "num_outputs = 77\n",
    "\n",
    "########################\n",
    "#  Weights connecting the inputs to the hidden layer\n",
    "########################\n",
    "Wxz = nd.random_normal(shape=(num_inputs,num_hidden), ctx=ctx) * .01\n",
    "Wxr = nd.random_normal(shape=(num_inputs,num_hidden), ctx=ctx) * .01\n",
    "Wxh = nd.random_normal(shape=(num_inputs,num_hidden), ctx=ctx) * .01\n",
    "\n",
    "\n",
    "########################\n",
    "#  Recurrent weights connecting the hidden layer across time steps\n",
    "########################\n",
    "Whz = nd.random_normal(shape=(num_hidden,num_hidden), ctx=ctx)* .01\n",
    "Whr = nd.random_normal(shape=(num_hidden,num_hidden), ctx=ctx)* .01\n",
    "Whh = nd.random_normal(shape=(num_hidden,num_hidden), ctx=ctx)* .01\n",
    "\n",
    "\n",
    "########################\n",
    "#  Bias vector for hidden layer\n",
    "########################\n",
    "bz = nd.random_normal(shape=num_hidden, ctx=ctx) * .01\n",
    "br = nd.random_normal(shape=num_hidden, ctx=ctx) * .01\n",
    "bh = nd.random_normal(shape=num_hidden, ctx=ctx) * .01\n",
    "\n",
    "\n",
    "########################\n",
    "# Weights to the output nodes\n",
    "########################\n",
    "Why = nd.random_normal(shape=(num_hidden,num_inputs), ctx=ctx) * .01\n",
    "by = nd.random_normal(shape=num_inputs, ctx=ctx) * .01"
   ]
  },
  {
   "cell_type": "markdown",
   "metadata": {},
   "source": [
    "## Attach the gradients"
   ]
  },
  {
   "cell_type": "code",
   "execution_count": 21,
   "metadata": {
    "collapsed": true
   },
   "outputs": [],
   "source": [
    "params = [Wxz, Wxr, Wxh, Whz, Whr, Whh, bz, br, bh]\n",
    "params += [Why, by]\n",
    "\n",
    "for param in params:\n",
    "    param.attach_grad()\n",
    "for param in params:\n",
    "    param.attach_grad()"
   ]
  },
  {
   "cell_type": "markdown",
   "metadata": {},
   "source": [
    "## Softmax Activation"
   ]
  },
  {
   "cell_type": "code",
   "execution_count": 22,
   "metadata": {
    "collapsed": true
   },
   "outputs": [],
   "source": [
    "def softmax(y_linear, temperature=1.0):\n",
    "    lin = (y_linear-nd.max(y_linear)) / temperature\n",
    "    exp = nd.exp(lin)\n",
    "    partition =nd.sum(exp, axis=0, exclude=True).reshape((-1,1))\n",
    "    return exp / partition"
   ]
  },
  {
   "cell_type": "markdown",
   "metadata": {},
   "source": [
    "## Define the model"
   ]
  },
  {
   "cell_type": "code",
   "execution_count": 31,
   "metadata": {
    "collapsed": true
   },
   "outputs": [],
   "source": [
    "def gru_rnn(inputs, h, temperature=1.0):\n",
    "    outputs = []\n",
    "    for X in inputs:\n",
    "        z = nd.sigmoid(nd.dot(X, Wxz) + nd.dot(h, Whz) + bz)\n",
    "        r = nd.sigmoid(nd.dot(X, Wxr) + nd.dot(h, Whr) + br)\n",
    "        h = z * h + (1 - z) * nd.tanh(nd.dot(X, Wxh) + nd.dot(r * h, Whh) + bh)\n",
    "        \n",
    "        yhat_linear = nd.dot(h, Why) + by\n",
    "        yhat = softmax(yhat_linear, temperature=temperature) \n",
    "        outputs.append(yhat)\n",
    "    return (outputs, h)"
   ]
  },
  {
   "cell_type": "markdown",
   "metadata": {},
   "source": [
    "## Cross-entropy loss function"
   ]
  },
  {
   "cell_type": "code",
   "execution_count": 32,
   "metadata": {
    "collapsed": true
   },
   "outputs": [],
   "source": [
    "def cross_entropy(yhat, y):\n",
    "    return - nd.mean(nd.sum(y * nd.log(yhat), axis=0, exclude=True))"
   ]
  },
  {
   "cell_type": "markdown",
   "metadata": {},
   "source": [
    "## Averaging the loss over the sequence"
   ]
  },
  {
   "cell_type": "code",
   "execution_count": 33,
   "metadata": {
    "collapsed": true
   },
   "outputs": [],
   "source": [
    "def average_ce_loss(outputs, labels):\n",
    "    assert(len(outputs) == len(labels))\n",
    "    total_loss = nd.array([0.], ctx=ctx)\n",
    "    for (output, label) in zip(outputs,labels):\n",
    "        total_loss = total_loss + cross_entropy(output, label)\n",
    "    return total_loss / len(outputs)"
   ]
  },
  {
   "cell_type": "markdown",
   "metadata": {},
   "source": [
    "## Optimizer"
   ]
  },
  {
   "cell_type": "code",
   "execution_count": 34,
   "metadata": {
    "collapsed": true
   },
   "outputs": [],
   "source": [
    "def SGD(params, lr):    \n",
    "    for param in params:\n",
    "        param[:] = param - lr * param.grad"
   ]
  },
  {
   "cell_type": "markdown",
   "metadata": {},
   "source": [
    "## Generating text by sampling"
   ]
  },
  {
   "cell_type": "code",
   "execution_count": 35,
   "metadata": {
    "collapsed": true
   },
   "outputs": [],
   "source": [
    "def sample(prefix, num_chars, temperature=1.0):\n",
    "    #####################################\n",
    "    # Initialize the string that we'll return to the supplied prefix\n",
    "    #####################################\n",
    "    string = prefix\n",
    "\n",
    "    #####################################\n",
    "    # Prepare the prefix as a sequence of one-hots for ingestion by RNN\n",
    "    #####################################\n",
    "    prefix_numerical = [character_dict[char] for char in prefix]\n",
    "    input = one_hots(prefix_numerical)\n",
    "    \n",
    "    #####################################\n",
    "    # Set the initial state of the hidden representation ($h_0$) to the zero vector\n",
    "    #####################################    \n",
    "    h = nd.zeros(shape=(1, num_hidden), ctx=ctx)\n",
    "    c = nd.zeros(shape=(1, num_hidden), ctx=ctx)\n",
    "\n",
    "    #####################################\n",
    "    # For num_chars iterations,\n",
    "    #     1) feed in the current input\n",
    "    #     2) sample next character from from output distribution\n",
    "    #     3) add sampled character to the decoded string\n",
    "    #     4) prepare the sampled character as a one_hot (to be the next input)\n",
    "    #####################################    \n",
    "    for i in range(num_chars):\n",
    "        outputs, h = gru_rnn(input, h, temperature=temperature)\n",
    "        choice = np.random.choice(77, p=outputs[-1][0].asnumpy())\n",
    "        string += character_list[choice]\n",
    "        input = one_hots([choice])\n",
    "    return string"
   ]
  },
  {
   "cell_type": "code",
   "execution_count": null,
   "metadata": {},
   "outputs": [
    {
     "name": "stdout",
     "output_type": "stream",
     "text": [
      "Epoch 0. Loss: 3.65243276835\n",
      "The Time Man te at aat at at at at at at an at ot at at an te at aoe at te te te te te at te te te an te te te an te te te at te te te at te te te te te te te te te te te aat at an te an te te te an an te an at te te te at te te at at an te te te te te te an te an te an at an te te ae te te te te te te at te te at te at te te tae te at te ae te at an at at at an te te te at te te te te te te an at at te at te an te at te te te te te te te te at the te te an tan te te te te te he te te te at at te an te te te an te at at at te aae te te te at te te te te te an te te ae te at at te at te the te an at te te at te at at te te te te te te aat te te at at at aan te an te te ot te an te an te an te toe te at te te at at te an te an te te te te te te te te te te te te te te te an at an at at te ae te an te te te an te an at aae at te te at te at te te an te te te an te te the te te te te te at te at an te at te te te te an te at at te an te te te at oe te the at an te te te te te at at ot te aan te te an te an tae te te ae te a\n",
      "The Medical Man rose, came to the lamp, te te at te ot an at at the te at at at at te at ot aan te te toe te te te te te the te an te te te te te te an te te te te te at te te te te at te te te te an on te te at te an at te an ae te te tae te te an te an te te te at an at aan te te te at te te an te te oe te te at at an te at an te an te te at an te te te te at at at at te aan te te an ane te te an te at an te te te te te te te te te at aan at te at te te an te te te an te te te at te te te te at te te te te te te te te at te at te te at te te te te an te ae at te te te te at an at te at an te te aan te ot te te te at at te at te at te te at te aoe te te te te te at at te at at an at ae te an te at te te te te te te an te te at at at te te an te tt at te te an at te on at at at an te te at an aoe te te an tae te an te toe at te at an an te an te aan at at an te te te te te te te at an at te te toe te ot at te te te te te te ot te at at te te te te on an te te an at he te an te te te an te te te an the aae te te ane an te tae te an te te at at he t\n",
      "Epoch 1. Loss: 3.09548014237\n",
      "The Time Man the the the the the the the the the the the the the the the the the the the the the the the the the the the the the the the the the the the the the the the the the the the the the the the the the the the the the the the the the the the the the the the the the the the the the the the the the the the the the the the the the the the the the the the the the the the the the the the the the the the the the the the the the the the the the the the the the the the the the the the the the the the the the the the the the the the the the the the the the the the the the the the the the the the the the the the the the the the the the the the the the the the the the the the the the the the the the the the the the the the the the the the the the the the the the the the the the the the the the the the the the the the the the the the the the the the the the the the the the the the the the the the the the the the the the the the the the the the the the the the the the the the the the the the the the the the the the the the th\n",
      "The Medical Man rose, came to the lamp, the the the the the the the san the the the the the the the the the the the the the the the the the the the the the the the the the the the the the the the the the the the the the the the the the the the the the the the the the the the the the the the the the the the the the the the the the the the the the the the the the the the the the the the the the the the the the the the the the the son the the the the the the the the the the the the the the the the san the the the the the the the the the the the the the the the the the the the the the the the the the the the the the the the san the the the the the the the the the the the the the the the the the the the the the the the the the the the the the the the the the the the the the the the the the the the the the the the the the the the the the the the the the the the the the the the the the the the the the the the the the the the the the the san the the the the the the the the the the the the the the the the the the the the the the son the the the the the the\n",
      "Epoch 2. Loss: 2.76669972253\n",
      "The Time Mand an the son the the the the the the the the the the the the the the the the the the the the and the the the the the the the the the the the the son the the son the the the the sor the the the the the the the the the the the the the the the the the the the the the the the the the the the the the the the the the the the the the the the the the the the the the the the the the the the the the the the the the the the the the the the the the the the the the the the the the the the the the the the the the the the the the the the the the the the the the the the the the the the the the the the the the the the the the the the the the the the the the the the the the the the the the the the the the the the the the the the the the the the the the the the the the the the the the the the the the the the the the the the the the the the the the the the the the the the the the the the the the the the the the the the the the sor the the the the the the the the the the the the the the the the the the the the the the the the th\n",
      "The Medical Man rose, came to the lamp, and the the the the the the the the the the the the the the the the the sor the the the the the the the the the the the the son the the the the sore the the the the the the the the the the the the the the the the the the the the the the the the the the the the the the the the the the the the the sor the the the the the the the the the the the the the the the the the the the the the the the the the the the the the the the the the the sand and the the sore the the the the the the the the the the the the the the the the the the the the the the the the the the sas the the the the the the the the the the the the the the the the the the the the the the the the the the the the the the the the the the the the the the the the the the the the the the the the the the sor the the the the the the the the the the sand the the the the the the the the the the the the the the the the the the the the the the the the the the the the the the the the the the the the the the the the the the the the the the the the the the the the\n",
      "Epoch 3. Loss: 2.58154367074\n",
      "The Time Mas the the the the the the the the the the the the the the the the the the the the the the the the the the the the the the the the the the the the the the the the the the the the the the sor the the sore the the the the she the the the the the the sor the the the the the the the the the the the the the the she the the the the the the the the the the the the the the the the the the the the the the the the the the the the the the the the the the the the the the the the the the sor the the the the the the the the the the the the the the the the the the the the the the the the the the the the the the the the the the the the the the the the the the the the the the the the the the the the the sout the the the the the the the the the the and the the the the the the the the the the the the the the sound the the the the the the the the the the the the the the the the the the the the the sor the the the the sor the the the the the the the the the the the the sor the the the the the the the the the the the s and the the \n",
      "The Medical Man rose, came to the lamp, and the the the the the the the the the the the the the the the the the the the the the the the the the sor the the sond the the the the the the the the the the the the the the the the the the the the the the the the the the the sor the sor the the the the the the the the the the the the the the the the the the the the the the the the the the the the the the the the the the the sor the the the the the the the sor the the the the the the the the sor the the the the the the the the the the the the the the the the the the the the the the the the the the the the the the the the the the the the the the the the the the the the the the the the the the the the the the the the the the the the the the the son the the the the the the the the the the the the the the the the the the the the s the the the the sor the the the the the the the the the the the the the the the the the the the the the the sor the the the the the the the the the the the the the the the the the the the the the the the the the the the the the the \n"
     ]
    },
    {
     "name": "stdout",
     "output_type": "stream",
     "text": [
      "Epoch 4. Loss: 2.46602338972\n",
      "The Time Mas the the the the the the s the the sound the the the the the the the the the the the the the the s and the the the the the the the the the the the the the the the the the the the the the the the the the the the the the the the the the the the the the the s and the the the the the the she the the the the the the the the the the the the the the the the s and the the the the the the the the the the the the the the the the the the the the the the the the the the the the the the the the the the the the the the the the the the the the the the the the the the the the the the the the the the the the the the the the the the the the the the the the the the the the the the the the the sor the the the the the the the the the the the the the the the the s and the the the the s and the the the s and the the the the s and the the s and the the the the the the the the the the the the the the the the the the the the the the the the the the the the the the the the the sithe the the the s and the the s and the the the the the \n",
      "The Medical Man rose, came to the lamp, and the the the the the the the the the the the the the the the the the the the the the the the the the the the the the the the the the the the s and the the the the the the the the the the the the the the the the the the the the the the the the the the the the the the the the the s and the the the the the s and the the the the the the the the the the the the the the the the the the the the the the the the the the the the the the the the the the the the s and the the the the the the the the the the the the the the the the the the the the the s and and the the the s and the the s and the the the the the the the s and the the the the the the the the the the the the the the the the the the the the the the the the the the the the the the the the the the the the the the s and the the the the the the the the the the the the the the the the the the the the the the the the the the the the the s and the the the s and the the the the s and the s and the the the the sound the the the the the the the the the the the the\n",
      "Epoch 5. Loss: 2.38334236152\n",
      "The Time Mat in the ser the the se the the the the the the the s and the s and the the the the the the the the the the the the the the se the the the the sing the the the the sing the sto the the the the the the the the the the the the the the the the the the the the the se the the the the s and the s and the the the the the the the the the stor the the the the the the s and the the the sing the stor the the the the s and the the the s and the the the sto the the the s and the s the the sing the the the the s and the the the the s and the s and the the the sing the the the the s and the the she the the the the the the the s and the se the sing the the the s and the the the the the the the the the the s and the the the the the the the s and the the the se the s and the the the sing the s and the s and the se the the the s and the the the sing the sound the the s and the the s and the the the sing the the the s and the the the the the s and the se the the the the s and the s and the s of the s and the the the s and the th\n",
      "The Medical Man rose, came to the lamp, and the the the the the the s and the she the s and the s and and the the the the the the the the the the the the the s and the s and the the the the the the the the the the the the s and the s and the the the the s and the the the the the se the s and the the the s of the the sing the s and the the s and the the s and the the s and the the s and the the the the the the the the the se the the the the s and the the the the the the the the the the the the the the the she the se the the the the the the the the se the s and the the the the the the the sas the the the the the the the the the the the s and the the the the s and the s and the the the the the the ser the the the soun the the the the the the the the sing the s and the the the the the the the se the the the seas the the the the the s and the the the the the s and the the the se the the s and the s and the s and the the the s and the se the se the the the the the the the s and the the the the the the stor the the the the the the the the the the the se \n",
      "Epoch 6. Loss: 2.31720931821\n",
      "The Time Mas the the the sered and the the the the sere the sere the the the the the the the the the the seas and the the sere the the the the seas the the the the the the the the the the the the the the the the the seat of the the seat of the the the the the sere the seat of the the seat of the the sere the sere the sere the the the the the the the the the the the the seat the the the the the the the seat and the seat of the the the the seat of the the the seas and the the the the the sing the the the the the sered and the the the the the the seat and and the seat and the the the sing the seas and the the the the the the the the the the the the seat of the sere the the the the the the the seat the the the the the the sore the the the the the the seat the the the seat and the the the the the the the the the war the the the the the the the the the seat of the the the the sare the the the seand the sered the seas and the sere the seas and the the the the the the sere the the the sere the the the war the the sered the sere\n",
      "The Medical Man rose, came to the lamp, and the the the sere the the seat and and and the the the the the the sere the the the the the the the seat and the the sare the sered and the the the the the the the the the the seas and the war the the the the sint and the seat the seat and the seat of the the the sere the sere the the seat and the the the the war the the the the the seat of the seat and the sere the the seat the the the the the seat of the the the the seat and the seas and the seat and the the the the the the the the the the the the the the seand the the the seat of the the seas and and the the the the sered and the the the the the the sere the the the seat of the the seat of the seat and the the the the the sere the the the the the the the sound and the the the the the the the the the the the the the the the sing the the the the the sere the seat and the the seat and the the the the the the the the the the the the the the seas and the the sere the seat of the the the the the the the the sere the the the the the the the the the the the se\n",
      "Epoch 7. Loss: 2.26158931073\n",
      "The Time Mas the the sered the seat and the seas and the seat the the the sere the the sere the seat of the seat of the sered the sere the seat and the the seat of the the the sere the the seat of the seat and the sere the sere the seat of the sing the sere the sere the sare the seat the the seat and the sere the the the the sere the sing the sered the sere the the sere the sar the sing the the sall the the the seat the seat the seat the sere the the sere the the the sere the seat of the sere the seat the the the the sare the sare the seat the the war the sout wat har the the sore the the sere the sere the sere the sere the sar the sere the war the sered and the sered and the seat and the the sere the sere the seat of the sere the the seas and the sing the the sere the sare the seat of the seat the the sore the the sing the the sere the the the sered the the sore the the store the sere the seat the sere the the the sall the sar the the the sere the the seat of the the the sere the sime and the seat the sere the seat the\n",
      "The Medical Man rose, came to the lamp, and the seat the seat of the seat the seat the seat of the the the seat the seat and the seat of the sall the seat the the seat the seat of the seat and the seat and the sered the sere the seat of the the the seat the sare the seat and the the the sered and the sere the sere the sere the seat of the the sere the seat of the seat of the seat the seat of the the the the seat the sere the the seat and the seand the seat of the sing the the sall the seat of the seat the seat the sere the seat of the sered the sere the seat of the the the the seat the the sere the the sere the the the the sere the sere the seat the seat of the seat of the sere the the the sere the sere the seat and the shat the sar the sered the the sall the the the seat the sered the war the the seat of the sare the sere the me the the the the the the the sere the seat of the the the the sere the the the the sall the seat the the seat the seat of the seat of the sere the the the sing the the sere the seat of the the the sere the the the seat of \n"
     ]
    },
    {
     "name": "stdout",
     "output_type": "stream",
     "text": [
      "Epoch 8. Loss: 2.21198846277\n",
      "The Time Mas the seat the seat the sare the the seat and the sare the sere the seat the sare the sall the sall the seat the sill the the seat and the seat the seat of the seat of the the the the sall the sare the sere the seat of the sered the sould the sall the seat of the seat the seat the salle the sare the salle the the sare the sould the seat the seat the sould the salle the sould the sould the sar the seat of the sall the sould the seat and the seat of the seat of the sered the sare the the salled the the sare the seat the salle the sound the seat of the seat and the seat of the salle the the sere the sare the sime and the sall the sare the seat of the sere and the sall the sald the salle the sound the sere the sere the seat of the seat the seat and the sall the seat of the salle the sore the the sere the sall the seat the seat and the seat and the seat of the seat of the sere the seat of the seat of the seat the seat and the sout of the sere the seat the seat the sore the seat the seat the sald the seat the sare \n",
      "The Medical Man rose, came to the lamp, and the seat of the sere the sing the sald the seat of the seat the sare the seat of the sare the seat the the sered and the salle the seat the seat the seat the sall the the sere the sore the seat of the salle the the seat of the ware the sered the sall of the sould the seat the salle the sound the salle the seat and the the sere the seat of the seat of the sere the sion the seat of the sered the seat of the sare the seat of the sime the seat and the sered the seat and the sall the sered the seat the ware the sere the sall the seat and the the sere the sound the sall the salle the sare the sered the sall the seat and the seat the seat the sound the seat the salle the sald and the sound the sald the sound the salle the seat the salle the sall the sere the sille the sare the sound the sall the seat the seat of the salle the sered the sound the salle the sime and the the sere the the sered the sered the seat the seat of the seat and the sall the seat of the sald the seat of the sered the sound the salle the sa\n",
      "Epoch 9. Loss: 2.16502983414\n",
      "The Time Mare the salle the sall the sould the sare the seat the sould the sall and the sime and the sould the sare the sound the sall the salle the sare the sime and the sould the sare the sall the seat the sime and the sare the sare and the sare the sall the sare the sall the salle the sore the seat the sould the seat the seat the seat the salle the salle the sare the sound the sald the salle the sound the sare the sould the sound the sare the seat the sald the sould the sare the sall the salle the sall the sare the sere war the sore the sound the salle the sound the salle the sall the sall the sall the sald the sar the sall the seat the sall the sould the sould the sould the salle the salle the sound the salle the sall the sore the sald the sore the sime and the sore the sould the sould the sare the salle the sare the sall the salle the sould the sore the sound the sall the sare the sare the sound the sall the sare the salle the sare the sare the seat a the sall the sall the sare the sould the sould the seat the sall\n",
      "The Medical Man rose, came to the lamp, and the sime the sare the sald the sore the salle the sall the sered the sore the sould the sould the sall the sound the sould the sould the seat the sare the sall the sall the sould the sould the salle the sould the sould the sare the sould the sare the sould the salle the sound the sould the sould the sould the sald the sere the sare the sare the seat the sere the sald the sore the sall the sare the sall the sould the sare the sound the sound the sall the sound the sould the sound the sall the sall the seat the sare the sare the sime and the sare the salle the sould the seat the sare the sall the sald the sould the sime and the sered the sould the sare the sare the sall the sould the salle the sare the sould the sore the salle the sound the sound the sime and the sould the sould the sould the lare the sure the sall the salle the sall the sald the sould the sald the seat the sare the sald and the salle the sall the sall the salle the sare the salle the sall the sould the sare a the sound the sall the sare t\n",
      "Epoch 10. Loss: 2.12167601501\n",
      "The Time Mas the sound the sould the sould the sound the sald the sound the sald the sound the sald the sald the sare the sare and the sould the sald the sound the sald the sould the sound the sald the sould the sound the sald the sound the same the sould the sald the sald the sald the seat the sare and the sare the sald the sald the sald the sound the sound the sould the sound the sand the sald the sall the sowe the sald the sound the sald the sould the sald the same the sald the sound the sald the sald the sound the sall the sould the sald the some and the sound the sound the sound the sald the sald the sore the sound the sall the sald the sowe the sald the sald the sould the sound the sound the sound the sald the sald the sare the sald the sald the sald the same the sald the sand the same the sald the sald the sald the sowe the sould the sould the sould the sald the sall the sald the sald the sound the sound the sound the sald the sald the sound the sall the sould the sould the sound the sald the sall the sald the so\n",
      "The Medical Man rose, came to the lamp, and the sound the sould the sald the sowe the sould the sound the sound the sald the sald the sound the sound the sound the sound the same the sound the sald the sound the sald the sound the sare the sald the sound the sald the sald the sound the sound the sound the sall the sound the sald the sald the sound the sound the sare the sound the sound the sore the sound the sald the sald the sar the sald the sald the sald the sould the sald the sound the sare and the sound the sare the sound the sand the sound the sime and the sall the sound the sould the sound the sound the sald the sound the sald the sound the sald the sald the sowe the sald the sound the sound the sound the sound the sald the sound the sould the sald the sound the sound the sould the sound the sound the sound the sound the sound the sound the sare and the sure the sald the sound the sound the sould the sould the sare the sall the sould the sald the sald the sald the sound the sald the sould the sound the sald the sald the sould the sound the s\n",
      "Epoch 11. Loss: 2.08063117632\n",
      "The Time Mare the sore the sare the sould the sourd the sare and the sould the sould the same the sall the sould the sall the sare and the sould the sould the sall the sound the sare the some the sound the sould the sould the sower the sare the sare and the sare and the sare the sare of the sall the sould the sound the sall the sould the sall the sare the sall the sould the sould the sould the sall the sould the sould the sound the sould the sould the sare and the sound the sourd the sall the sould the sare the sould the sould the sale the sould the sare the sare and the sould the sall the sore and the sould the sourd the sall the sourd the sore the sare the sould the was the sould the sall the some the sould the sound the sall the sore the sare the sourd the sould the sould the sould the sould the sall the sall the sound the sall the sould the sall the sound the sould the sall the sould the sound the sould the sare of the sould the sound the sould the sore the sare and the sould the sall the sall the sould the sald the\n",
      "The Medical Man rose, came to the lamp, and the sare the sare the sould the sould the sould the sall the sall the sore the sall the sould the sould the sould the sound the sore the sould the sound the sall the sould the sound the sound the sound the sare the sound the sould the sare a for the sare and the sould the sould the sound the sore the sould the sould the sould the sould the sould the sould the sould the sould the sould the sore the sould the sould the sall the sould the sall the sore the sall the sould the sould the sare and the sourd the sould the sare the sare the sould the sare the sare the sould the sare the sall the sall the some the sare the sound the sould the sall the sould the sall the sare the sould the sare the sall the sore and the some the sound the sound the sall the sound the some the sould the sould the sare the sould the same the sall the sall the sould the sall the same the sound the store the sould the sore the sould the sound the sound the sound the sall the sall the sound the sare and the sould the sore was the sould \n"
     ]
    },
    {
     "name": "stdout",
     "output_type": "stream",
     "text": [
      "Epoch 12. Loss: 2.04239482511\n",
      "The Time Mand the sould the sore of the sould the sourd the sould the sore the sould the sound the sould the was the sould the sould the sound the sound the sound the same of the sould the some the sound the sourd the some the sould the sould the sound the sound the sould the sand the sould the sould the some of the sould the some of the sound the sould the same the sould the sound the sould the sould the sore was the sould the sould the sound the sore the sould the sourd the sould the sall the sould the some the sound the sould the sall the sound the some the sould the sould the sould the sound the sound the sould the sould the sould the sound the sould the sourd and the sould the same the sourd the sould the sould the sould the same the some the sould the sould the sould the sound the same of the same and the sound the sould the sould the sould the some the sould the sound the sould the sould the sound the sound the sould the sound the sould the sound the sound the same and the sound the sound the same the sare the so\n",
      "The Medical Man rose, came to the lamp, and the sould the sould the sould the sound the sourd the sould the sound the sound the sound the some the sould the was the sound the some a store the sould the same the sourd the same the sound the sould the some the some and the sourd the sould the sould the sound the sound the sore a more the sound the same of the sould the sould the sould the sould the sourd the sould the sound the some the sand the sould the same the some the same the sore the sound the sould the sound the some the some the sould the sould the sould the sound the sould the sound the same to the sore of the sore of the sould the sound the sowe the sout the sound the some the sould the sould the sound the sould the sould the sould the sourd the sould the sime and the sound the sould the some the sould the some the some the sould the sould the sould the some the some the sound the sound the sore the some had sound the sould the sould the sourd the some the sound the some of the sould the sould the some the sound the sould the sand the som\n"
     ]
    }
   ],
   "source": [
    "epochs = 2000\n",
    "moving_loss = 0.\n",
    "\n",
    "learning_rate = 2.0\n",
    "\n",
    "# state = nd.zeros(shape=(batch_size, num_hidden), ctx=ctx)\n",
    "for e in range(epochs):\n",
    "    ############################\n",
    "    # Attenuate the learning rate by a factor of 2 every 100 epochs.\n",
    "    ############################\n",
    "    if ((e+1) % 100 == 0):\n",
    "        learning_rate = learning_rate / 2.0\n",
    "    h = nd.zeros(shape=(batch_size, num_hidden), ctx=ctx)\n",
    "#     c = nd.zeros(shape=(batch_size, num_hidden), ctx=ctx)\n",
    "    for i, (data, label) in enumerate(zip(training_data, training_labels)):\n",
    "        data_one_hot = data\n",
    "        label_one_hot = label\n",
    "        with autograd.record():\n",
    "            outputs, h = gru_rnn(data_one_hot, h)\n",
    "            loss = average_ce_loss(outputs, label_one_hot)\n",
    "            loss.backward()\n",
    "        SGD(params, learning_rate)\n",
    "\n",
    "        ##########################\n",
    "        #  Keep a moving average of the losses\n",
    "        ##########################\n",
    "        if (i == 0) and (e == 0):\n",
    "            moving_loss = nd.mean(loss).asscalar()\n",
    "        else:\n",
    "            moving_loss = .99 * moving_loss + .01 * nd.mean(loss).asscalar()\n",
    "      \n",
    "    print(\"Epoch %s. Loss: %s\" % (e, moving_loss)) \n",
    "    print(sample(\"The Time Ma\", 1024, temperature=.1))\n",
    "    print(sample(\"The Medical Man rose, came to the lamp,\", 1024, temperature=.1))\n",
    "            "
   ]
  },
  {
   "cell_type": "markdown",
   "metadata": {},
   "source": [
    "## Conclusions"
   ]
  },
  {
   "cell_type": "markdown",
   "metadata": {
    "collapsed": true
   },
   "source": [
    "For whinges or inquiries, [open an issue on  GitHub.](https://github.com/zackchase/mxnet-the-straight-dope)"
   ]
  },
  {
   "cell_type": "code",
   "execution_count": null,
   "metadata": {
    "collapsed": true
   },
   "outputs": [],
   "source": []
  }
 ],
 "metadata": {
  "kernelspec": {
   "display_name": "Python 3",
   "language": "python",
   "name": "python3"
  },
  "language_info": {
   "codemirror_mode": {
    "name": "ipython",
    "version": 3
   },
   "file_extension": ".py",
   "mimetype": "text/x-python",
   "name": "python",
   "nbconvert_exporter": "python",
   "pygments_lexer": "ipython3",
   "version": "3.4.3"
  }
 },
 "nbformat": 4,
 "nbformat_minor": 2
}
